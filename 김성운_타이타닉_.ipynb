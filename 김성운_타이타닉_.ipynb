{
  "nbformat": 4,
  "nbformat_minor": 0,
  "metadata": {
    "colab": {
      "name": "김성운_타이타닉 .ipynb",
      "provenance": [],
      "collapsed_sections": [],
      "include_colab_link": true
    },
    "kernelspec": {
      "display_name": "Python 3",
      "language": "python",
      "name": "python3"
    },
    "language_info": {
      "codemirror_mode": {
        "name": "ipython",
        "version": 3
      },
      "file_extension": ".py",
      "mimetype": "text/x-python",
      "name": "python",
      "nbconvert_exporter": "python",
      "pygments_lexer": "ipython3",
      "version": "3.8.3"
    }
  },
  "cells": [
    {
      "cell_type": "markdown",
      "metadata": {
        "id": "view-in-github",
        "colab_type": "text"
      },
      "source": [
        "<a href=\"https://colab.research.google.com/github/KimSungWoon/ML-DL-Study/blob/main/%E1%84%80%E1%85%B5%E1%86%B7%E1%84%89%E1%85%A5%E1%86%BC%E1%84%8B%E1%85%AE%E1%86%AB_%E1%84%90%E1%85%A1%E1%84%8B%E1%85%B5%E1%84%90%E1%85%A1%E1%84%82%E1%85%B5%E1%86%A8_.ipynb\" target=\"_parent\"><img src=\"https://colab.research.google.com/assets/colab-badge.svg\" alt=\"Open In Colab\"/></a>"
      ]
    },
    {
      "cell_type": "markdown",
      "metadata": {
        "id": "L34UujaDUIre"
      },
      "source": [
        "## 타이타닉 가설\n",
        "1. 남자가 많이 죽었다. (채택)\n",
        "2. *가정이 있는 남자가 많이 죽음. (채택)\n",
        "3. 3클래스에 탄사람이 많이 죽었다 (채택)\n",
        "4. 3클래스에 탄 남자가 압도적으로 많이죽음(채택)\n",
        "4. 가족 없는 남자가 많이 죽었을 것이다.(채택)\n",
        "5. S에서 탄 사람이 많이 죽었다. / *s의 특징? (채택)\n",
        "6. 요금을 적게 낼수록 더 많이 죽었다 (채택)\n",
        "7. 나이가 어릴수록 저 많이 죽었다.(채택)"
      ]
    },
    {
      "cell_type": "code",
      "metadata": {
        "id": "vxHKCwZcANKn"
      },
      "source": [
        "import pandas as pd\n",
        "import numpy as np\n",
        "import matplotlib.pyplot as plt\n",
        "import seaborn as sns\n",
        "sns.set()"
      ],
      "execution_count": null,
      "outputs": []
    },
    {
      "cell_type": "code",
      "metadata": {
        "colab": {
          "base_uri": "https://localhost:8080/",
          "height": 221
        },
        "id": "wq6sIT_DAQ1l",
        "outputId": "c30756d1-95f1-44af-eb65-4ee7f27b3831"
      },
      "source": [
        "# train data Load & shpae 확인\n",
        "titanic_df = pd.read_csv('/content/sample_data/train.csv', sep=',')\n",
        "\n",
        "print(titanic_df.shape)\n",
        "titanic_df.head()"
      ],
      "execution_count": null,
      "outputs": [
        {
          "output_type": "stream",
          "text": [
            "(891, 12)\n"
          ],
          "name": "stdout"
        },
        {
          "output_type": "execute_result",
          "data": {
            "text/html": [
              "<div>\n",
              "<style scoped>\n",
              "    .dataframe tbody tr th:only-of-type {\n",
              "        vertical-align: middle;\n",
              "    }\n",
              "\n",
              "    .dataframe tbody tr th {\n",
              "        vertical-align: top;\n",
              "    }\n",
              "\n",
              "    .dataframe thead th {\n",
              "        text-align: right;\n",
              "    }\n",
              "</style>\n",
              "<table border=\"1\" class=\"dataframe\">\n",
              "  <thead>\n",
              "    <tr style=\"text-align: right;\">\n",
              "      <th></th>\n",
              "      <th>PassengerId</th>\n",
              "      <th>Survived</th>\n",
              "      <th>Pclass</th>\n",
              "      <th>Name</th>\n",
              "      <th>Sex</th>\n",
              "      <th>Age</th>\n",
              "      <th>SibSp</th>\n",
              "      <th>Parch</th>\n",
              "      <th>Ticket</th>\n",
              "      <th>Fare</th>\n",
              "      <th>Cabin</th>\n",
              "      <th>Embarked</th>\n",
              "    </tr>\n",
              "  </thead>\n",
              "  <tbody>\n",
              "    <tr>\n",
              "      <th>0</th>\n",
              "      <td>1</td>\n",
              "      <td>0</td>\n",
              "      <td>3</td>\n",
              "      <td>Braund, Mr. Owen Harris</td>\n",
              "      <td>male</td>\n",
              "      <td>22.0</td>\n",
              "      <td>1</td>\n",
              "      <td>0</td>\n",
              "      <td>A/5 21171</td>\n",
              "      <td>7.2500</td>\n",
              "      <td>NaN</td>\n",
              "      <td>S</td>\n",
              "    </tr>\n",
              "    <tr>\n",
              "      <th>1</th>\n",
              "      <td>2</td>\n",
              "      <td>1</td>\n",
              "      <td>1</td>\n",
              "      <td>Cumings, Mrs. John Bradley (Florence Briggs Th...</td>\n",
              "      <td>female</td>\n",
              "      <td>38.0</td>\n",
              "      <td>1</td>\n",
              "      <td>0</td>\n",
              "      <td>PC 17599</td>\n",
              "      <td>71.2833</td>\n",
              "      <td>C85</td>\n",
              "      <td>C</td>\n",
              "    </tr>\n",
              "    <tr>\n",
              "      <th>2</th>\n",
              "      <td>3</td>\n",
              "      <td>1</td>\n",
              "      <td>3</td>\n",
              "      <td>Heikkinen, Miss. Laina</td>\n",
              "      <td>female</td>\n",
              "      <td>26.0</td>\n",
              "      <td>0</td>\n",
              "      <td>0</td>\n",
              "      <td>STON/O2. 3101282</td>\n",
              "      <td>7.9250</td>\n",
              "      <td>NaN</td>\n",
              "      <td>S</td>\n",
              "    </tr>\n",
              "    <tr>\n",
              "      <th>3</th>\n",
              "      <td>4</td>\n",
              "      <td>1</td>\n",
              "      <td>1</td>\n",
              "      <td>Futrelle, Mrs. Jacques Heath (Lily May Peel)</td>\n",
              "      <td>female</td>\n",
              "      <td>35.0</td>\n",
              "      <td>1</td>\n",
              "      <td>0</td>\n",
              "      <td>113803</td>\n",
              "      <td>53.1000</td>\n",
              "      <td>C123</td>\n",
              "      <td>S</td>\n",
              "    </tr>\n",
              "    <tr>\n",
              "      <th>4</th>\n",
              "      <td>5</td>\n",
              "      <td>0</td>\n",
              "      <td>3</td>\n",
              "      <td>Allen, Mr. William Henry</td>\n",
              "      <td>male</td>\n",
              "      <td>35.0</td>\n",
              "      <td>0</td>\n",
              "      <td>0</td>\n",
              "      <td>373450</td>\n",
              "      <td>8.0500</td>\n",
              "      <td>NaN</td>\n",
              "      <td>S</td>\n",
              "    </tr>\n",
              "  </tbody>\n",
              "</table>\n",
              "</div>"
            ],
            "text/plain": [
              "   PassengerId  Survived  Pclass  ...     Fare Cabin  Embarked\n",
              "0            1         0       3  ...   7.2500   NaN         S\n",
              "1            2         1       1  ...  71.2833   C85         C\n",
              "2            3         1       3  ...   7.9250   NaN         S\n",
              "3            4         1       1  ...  53.1000  C123         S\n",
              "4            5         0       3  ...   8.0500   NaN         S\n",
              "\n",
              "[5 rows x 12 columns]"
            ]
          },
          "metadata": {
            "tags": []
          },
          "execution_count": 106
        }
      ]
    },
    {
      "cell_type": "code",
      "metadata": {
        "id": "RJjLNpudAXsv"
      },
      "source": [
        "def pie_chart(feature):\n",
        "  feature_ratio = titanic[feature].value_counts()\n",
        "  feature_size = feature_ratio.size\n",
        "  feature_index = feature_ratio.index\n",
        "  survived = titanic[titanic.Survived == 1][feature].value_counts()\n",
        "  dead = titanic[titanic.Survived == 0][feature].value_counts()\n",
        "\n",
        "  plt.plot(aspect='auto')\n",
        "  plt.pie(feature_ratio, labels=feature_index, autopct='%1.1f%%')\n",
        "  plt.show()\n",
        "\n",
        "  for i, index in enumerate(feature_index):\n",
        "    plt.subplot(1, feature_size + 1, i+1, aspect='equal')\n",
        "    plt.pie([survived[index], dead[index]], labels=['Survived', 'Dead'], autopct='%1.1f%%')\n",
        "\n",
        "  plt.show()"
      ],
      "execution_count": null,
      "outputs": []
    },
    {
      "cell_type": "markdown",
      "metadata": {
        "id": "kE96t8-EM7K9"
      },
      "source": [
        "## 1.성별에 따른 생존 비율\n",
        "  \n",
        "  - 팩트) 남자가 여자보다 많이 죽고 여자는 많이 살았다.<시각화 체크>"
      ]
    },
    {
      "cell_type": "code",
      "metadata": {
        "colab": {
          "base_uri": "https://localhost:8080/",
          "height": 285
        },
        "id": "ftHiDKc7BSlg",
        "outputId": "f8417060-c2dd-4b92-fb75-eb86d146100e"
      },
      "source": [
        "# 성별에 따른 생존 비율\n",
        "sns.countplot(data=titanic_df, x='Sex', hue='Survived')\n",
        "plt.show()"
      ],
      "execution_count": null,
      "outputs": [
        {
          "output_type": "display_data",
          "data": {
            "image/png": "[encoded data removed]",
            "text/plain": [
              "<Figure size 432x288 with 1 Axes>"
            ]
          },
          "metadata": {
            "tags": []
          }
        }
      ]
    },
    {
      "cell_type": "markdown",
      "metadata": {
        "id": "jjADtVEwWTJC"
      },
      "source": [
        "## 2.가족있는 남자와 없는 남자의 생존률은 다를 것이다. \n",
        " 1) 결혼한 남자와 안한 남자의 성을 분석 \n",
        " - 결혼 한남자가 존나게 뒤졌다 <시각화 체크 >\n",
        "\n"
      ]
    },
    {
      "cell_type": "code",
      "metadata": {
        "colab": {
          "base_uri": "https://localhost:8080/",
          "height": 304
        },
        "id": "80mIHJosWvQx",
        "outputId": "506e53fb-2704-475a-d316-95493befb985"
      },
      "source": [
        "Last_name_list = [Last_name.split(',')[1].split('.')[0].replace(' ', '') for Last_name in titanic_df['Name']] \n",
        "# Title_list에 name을 split해서 title을 받아온 후 , 저장 \n",
        "titanic_df['Last_name']=Last_name_list\n",
        "# Title 컬럼 추가\n",
        "\n",
        "titanic_df.loc[(titanic_df['Sex']=='female') & ((titanic_df['Last_name']!='Mrs') & (titanic_df['Last_name']!='Miss')), 'Last_name'] = 'Mrs'\n",
        "titanic_df.loc[(titanic_df['Sex']=='male') & ((titanic_df['Last_name']!='Mr') & (titanic_df['Last_name']!='Master')), 'Last_name'] = 'Mr'\n",
        "# 호칭이 Mr, Master, Mrs, Miss 가 아닌 것 중에 성별을 확인하여 female이면 Mrs, male이면 Mr로 변경 \n",
        "titanic_df.head()\n",
        "\n",
        "sns.barplot(x = 'Last_name' , y = 'Survived',data = titanic_df)"
      ],
      "execution_count": null,
      "outputs": [
        {
          "output_type": "execute_result",
          "data": {
            "text/plain": [
              "<matplotlib.axes._subplots.AxesSubplot at 0x7f37907c0f98>"
            ]
          },
          "metadata": {
            "tags": []
          },
          "execution_count": 109
        },
        {
          "output_type": "display_data",
          "data": {
            "image/png": "[encoded data removed]",
            "text/plain": [
              "<Figure size 432x288 with 1 Axes>"
            ]
          },
          "metadata": {
            "tags": []
          }
        }
      ]
    },
    {
      "cell_type": "markdown",
      "metadata": {
        "id": "Od_GRtM4Na1O"
      },
      "source": [
        "## 3.3클래스에 탄 사람이 많이 죽었다.\n",
        "  - 팩트) 저렴하기 때문에 <시각화 체크>\n",
        "    - 가설) 위치가 좋지 않을 것이다. <모델링 필요>"
      ]
    },
    {
      "cell_type": "code",
      "metadata": {
        "colab": {
          "base_uri": "https://localhost:8080/",
          "height": 304
        },
        "id": "vsnmngxiDu5o",
        "outputId": "a915514d-8c01-4a95-bf3d-ea481dd9ea41"
      },
      "source": [
        "# 좌석 클래스에 따른 생존 비율\n",
        "sns.countplot(data=titanic_df, x='Pclass', hue='Survived')"
      ],
      "execution_count": null,
      "outputs": [
        {
          "output_type": "execute_result",
          "data": {
            "text/plain": [
              "<matplotlib.axes._subplots.AxesSubplot at 0x7f379079d908>"
            ]
          },
          "metadata": {
            "tags": []
          },
          "execution_count": 110
        },
        {
          "output_type": "display_data",
          "data": {
            "image/png": "[encoded data removed]",
            "text/plain": [
              "<Figure size 432x288 with 1 Axes>"
            ]
          },
          "metadata": {
            "tags": []
          }
        }
      ]
    },
    {
      "cell_type": "code",
      "metadata": {
        "colab": {
          "base_uri": "https://localhost:8080/",
          "height": 398
        },
        "id": "HWilvstHM4zt",
        "outputId": "a0cc4fa7-7629-4024-d7b6-0d689b997b6b"
      },
      "source": [
        "# 저렴하기 떄문에 시각화\n",
        "perish = low_fare[low_fare['Survived'] == 0 ]\n",
        "survived = low_fare[low_fare['Survived'] == 1]\n",
        "\n",
        "sns.distplot(perish['Fare'], hist=False, label='Perish')\n",
        "sns.distplot(survived['Fare'], hist=False, label='Survived')"
      ],
      "execution_count": null,
      "outputs": [
        {
          "output_type": "stream",
          "text": [
            "/usr/local/lib/python3.6/dist-packages/seaborn/distributions.py:2551: FutureWarning: `distplot` is a deprecated function and will be removed in a future version. Please adapt your code to use either `displot` (a figure-level function with similar flexibility) or `kdeplot` (an axes-level function for kernel density plots).\n",
            "  warnings.warn(msg, FutureWarning)\n",
            "/usr/local/lib/python3.6/dist-packages/seaborn/distributions.py:2551: FutureWarning: `distplot` is a deprecated function and will be removed in a future version. Please adapt your code to use either `displot` (a figure-level function with similar flexibility) or `kdeplot` (an axes-level function for kernel density plots).\n",
            "  warnings.warn(msg, FutureWarning)\n"
          ],
          "name": "stderr"
        },
        {
          "output_type": "execute_result",
          "data": {
            "text/plain": [
              "<matplotlib.axes._subplots.AxesSubplot at 0x7f37905eb588>"
            ]
          },
          "metadata": {
            "tags": []
          },
          "execution_count": 113
        },
        {
          "output_type": "display_data",
          "data": {
            "image/png": "[encoded data removed]",
            "text/plain": [
              "<Figure size 432x288 with 1 Axes>"
            ]
          },
          "metadata": {
            "tags": []
          }
        }
      ]
    },
    {
      "cell_type": "markdown",
      "metadata": {
        "id": "sAWyj4kiiGU_"
      },
      "source": [
        ""
      ]
    },
    {
      "cell_type": "code",
      "metadata": {
        "colab": {
          "base_uri": "https://localhost:8080/",
          "height": 205
        },
        "id": "sVEBnYdyiGsA",
        "outputId": "e92ccd54-e13e-4718-991d-a130c8fdb84f"
      },
      "source": [
        "pd.crosstab([titanic_df['Pclass'],titanic_df['Last_name']=='Mr'],\n",
        "            [titanic_df['Embarked'],titanic_df['Survived']],\n",
        "            margins=True).style.background_gradient(cmap='Reds')"
      ],
      "execution_count": null,
      "outputs": [
        {
          "output_type": "execute_result",
          "data": {
            "text/html": [
              "<style  type=\"text/css\" >\n",
              "#T_2dba2c8e_193e_11eb_bb17_0242ac1c0002row0_col0,#T_2dba2c8e_193e_11eb_bb17_0242ac1c0002row0_col6{\n",
              "            background-color:  #fff3ed;\n",
              "            color:  #000000;\n",
              "        }#T_2dba2c8e_193e_11eb_bb17_0242ac1c0002row0_col1{\n",
              "            background-color:  #fb7b5b;\n",
              "            color:  #000000;\n",
              "        }#T_2dba2c8e_193e_11eb_bb17_0242ac1c0002row0_col2,#T_2dba2c8e_193e_11eb_bb17_0242ac1c0002row0_col4,#T_2dba2c8e_193e_11eb_bb17_0242ac1c0002row1_col3,#T_2dba2c8e_193e_11eb_bb17_0242ac1c0002row2_col0,#T_2dba2c8e_193e_11eb_bb17_0242ac1c0002row2_col2,#T_2dba2c8e_193e_11eb_bb17_0242ac1c0002row2_col6,#T_2dba2c8e_193e_11eb_bb17_0242ac1c0002row3_col1,#T_2dba2c8e_193e_11eb_bb17_0242ac1c0002row3_col3,#T_2dba2c8e_193e_11eb_bb17_0242ac1c0002row3_col5{\n",
              "            background-color:  #fff5f0;\n",
              "            color:  #000000;\n",
              "        }#T_2dba2c8e_193e_11eb_bb17_0242ac1c0002row0_col3{\n",
              "            background-color:  #fff0e8;\n",
              "            color:  #000000;\n",
              "        }#T_2dba2c8e_193e_11eb_bb17_0242ac1c0002row0_col5{\n",
              "            background-color:  #fdcab5;\n",
              "            color:  #000000;\n",
              "        }#T_2dba2c8e_193e_11eb_bb17_0242ac1c0002row1_col0{\n",
              "            background-color:  #fca082;\n",
              "            color:  #000000;\n",
              "        }#T_2dba2c8e_193e_11eb_bb17_0242ac1c0002row1_col1{\n",
              "            background-color:  #fdd2bf;\n",
              "            color:  #000000;\n",
              "        }#T_2dba2c8e_193e_11eb_bb17_0242ac1c0002row1_col2,#T_2dba2c8e_193e_11eb_bb17_0242ac1c0002row3_col2{\n",
              "            background-color:  #fff2eb;\n",
              "            color:  #000000;\n",
              "        }#T_2dba2c8e_193e_11eb_bb17_0242ac1c0002row1_col4{\n",
              "            background-color:  #fee2d5;\n",
              "            color:  #000000;\n",
              "        }#T_2dba2c8e_193e_11eb_bb17_0242ac1c0002row1_col5{\n",
              "            background-color:  #fee7dc;\n",
              "            color:  #000000;\n",
              "        }#T_2dba2c8e_193e_11eb_bb17_0242ac1c0002row1_col6{\n",
              "            background-color:  #ffeee7;\n",
              "            color:  #000000;\n",
              "        }#T_2dba2c8e_193e_11eb_bb17_0242ac1c0002row2_col1{\n",
              "            background-color:  #fee8de;\n",
              "            color:  #000000;\n",
              "        }#T_2dba2c8e_193e_11eb_bb17_0242ac1c0002row2_col3{\n",
              "            background-color:  #feeae0;\n",
              "            color:  #000000;\n",
              "        }#T_2dba2c8e_193e_11eb_bb17_0242ac1c0002row2_col4{\n",
              "            background-color:  #fff4ee;\n",
              "            color:  #000000;\n",
              "        }#T_2dba2c8e_193e_11eb_bb17_0242ac1c0002row2_col5{\n",
              "            background-color:  #fcad90;\n",
              "            color:  #000000;\n",
              "        }#T_2dba2c8e_193e_11eb_bb17_0242ac1c0002row3_col0,#T_2dba2c8e_193e_11eb_bb17_0242ac1c0002row4_col0,#T_2dba2c8e_193e_11eb_bb17_0242ac1c0002row4_col6{\n",
              "            background-color:  #fee3d7;\n",
              "            color:  #000000;\n",
              "        }#T_2dba2c8e_193e_11eb_bb17_0242ac1c0002row3_col4{\n",
              "            background-color:  #fdcdb9;\n",
              "            color:  #000000;\n",
              "        }#T_2dba2c8e_193e_11eb_bb17_0242ac1c0002row3_col6{\n",
              "            background-color:  #fff2ec;\n",
              "            color:  #000000;\n",
              "        }#T_2dba2c8e_193e_11eb_bb17_0242ac1c0002row4_col1{\n",
              "            background-color:  #fdcbb6;\n",
              "            color:  #000000;\n",
              "        }#T_2dba2c8e_193e_11eb_bb17_0242ac1c0002row4_col2{\n",
              "            background-color:  #fcb398;\n",
              "            color:  #000000;\n",
              "        }#T_2dba2c8e_193e_11eb_bb17_0242ac1c0002row4_col3{\n",
              "            background-color:  #bc141a;\n",
              "            color:  #f1f1f1;\n",
              "        }#T_2dba2c8e_193e_11eb_bb17_0242ac1c0002row4_col4{\n",
              "            background-color:  #fed8c7;\n",
              "            color:  #000000;\n",
              "        }#T_2dba2c8e_193e_11eb_bb17_0242ac1c0002row4_col5{\n",
              "            background-color:  #fdd7c6;\n",
              "            color:  #000000;\n",
              "        }#T_2dba2c8e_193e_11eb_bb17_0242ac1c0002row5_col0{\n",
              "            background-color:  #fb7d5d;\n",
              "            color:  #000000;\n",
              "        }#T_2dba2c8e_193e_11eb_bb17_0242ac1c0002row5_col1{\n",
              "            background-color:  #ffece4;\n",
              "            color:  #000000;\n",
              "        }#T_2dba2c8e_193e_11eb_bb17_0242ac1c0002row5_col2{\n",
              "            background-color:  #de2b25;\n",
              "            color:  #f1f1f1;\n",
              "        }#T_2dba2c8e_193e_11eb_bb17_0242ac1c0002row5_col3{\n",
              "            background-color:  #fee5d8;\n",
              "            color:  #000000;\n",
              "        }#T_2dba2c8e_193e_11eb_bb17_0242ac1c0002row5_col4{\n",
              "            background-color:  #fa6648;\n",
              "            color:  #000000;\n",
              "        }#T_2dba2c8e_193e_11eb_bb17_0242ac1c0002row5_col5{\n",
              "            background-color:  #fee5d9;\n",
              "            color:  #000000;\n",
              "        }#T_2dba2c8e_193e_11eb_bb17_0242ac1c0002row5_col6{\n",
              "            background-color:  #fcae92;\n",
              "            color:  #000000;\n",
              "        }#T_2dba2c8e_193e_11eb_bb17_0242ac1c0002row6_col0,#T_2dba2c8e_193e_11eb_bb17_0242ac1c0002row6_col1,#T_2dba2c8e_193e_11eb_bb17_0242ac1c0002row6_col2,#T_2dba2c8e_193e_11eb_bb17_0242ac1c0002row6_col3,#T_2dba2c8e_193e_11eb_bb17_0242ac1c0002row6_col4,#T_2dba2c8e_193e_11eb_bb17_0242ac1c0002row6_col5,#T_2dba2c8e_193e_11eb_bb17_0242ac1c0002row6_col6{\n",
              "            background-color:  #67000d;\n",
              "            color:  #f1f1f1;\n",
              "        }</style><table id=\"T_2dba2c8e_193e_11eb_bb17_0242ac1c0002\" ><thead>    <tr>        <th class=\"blank\" ></th>        <th class=\"index_name level0\" >Embarked</th>        <th class=\"col_heading level0 col0\" colspan=2>C</th>        <th class=\"col_heading level0 col2\" colspan=2>Q</th>        <th class=\"col_heading level0 col4\" colspan=2>S</th>        <th class=\"col_heading level0 col6\" >All</th>    </tr>    <tr>        <th class=\"blank\" ></th>        <th class=\"index_name level1\" >Survived</th>        <th class=\"col_heading level1 col0\" >0</th>        <th class=\"col_heading level1 col1\" >1</th>        <th class=\"col_heading level1 col2\" >0</th>        <th class=\"col_heading level1 col3\" >1</th>        <th class=\"col_heading level1 col4\" >0</th>        <th class=\"col_heading level1 col5\" >1</th>        <th class=\"col_heading level1 col6\" ></th>    </tr>    <tr>        <th class=\"index_name level0\" >Pclass</th>        <th class=\"index_name level1\" >Last_name</th>        <th class=\"blank\" ></th>        <th class=\"blank\" ></th>        <th class=\"blank\" ></th>        <th class=\"blank\" ></th>        <th class=\"blank\" ></th>        <th class=\"blank\" ></th>        <th class=\"blank\" ></th>    </tr></thead><tbody>\n",
              "                <tr>\n",
              "                        <th id=\"T_2dba2c8e_193e_11eb_bb17_0242ac1c0002level0_row0\" class=\"row_heading level0 row0\" rowspan=2>1</th>\n",
              "                        <th id=\"T_2dba2c8e_193e_11eb_bb17_0242ac1c0002level1_row0\" class=\"row_heading level1 row0\" >False</th>\n",
              "                        <td id=\"T_2dba2c8e_193e_11eb_bb17_0242ac1c0002row0_col0\" class=\"data row0 col0\" >1</td>\n",
              "                        <td id=\"T_2dba2c8e_193e_11eb_bb17_0242ac1c0002row0_col1\" class=\"data row0 col1\" >42</td>\n",
              "                        <td id=\"T_2dba2c8e_193e_11eb_bb17_0242ac1c0002row0_col2\" class=\"data row0 col2\" >0</td>\n",
              "                        <td id=\"T_2dba2c8e_193e_11eb_bb17_0242ac1c0002row0_col3\" class=\"data row0 col3\" >1</td>\n",
              "                        <td id=\"T_2dba2c8e_193e_11eb_bb17_0242ac1c0002row0_col4\" class=\"data row0 col4\" >2</td>\n",
              "                        <td id=\"T_2dba2c8e_193e_11eb_bb17_0242ac1c0002row0_col5\" class=\"data row0 col5\" >49</td>\n",
              "                        <td id=\"T_2dba2c8e_193e_11eb_bb17_0242ac1c0002row0_col6\" class=\"data row0 col6\" >95</td>\n",
              "            </tr>\n",
              "            <tr>\n",
              "                                <th id=\"T_2dba2c8e_193e_11eb_bb17_0242ac1c0002level1_row1\" class=\"row_heading level1 row1\" >True</th>\n",
              "                        <td id=\"T_2dba2c8e_193e_11eb_bb17_0242ac1c0002row1_col0\" class=\"data row1 col0\" >25</td>\n",
              "                        <td id=\"T_2dba2c8e_193e_11eb_bb17_0242ac1c0002row1_col1\" class=\"data row1 col1\" >17</td>\n",
              "                        <td id=\"T_2dba2c8e_193e_11eb_bb17_0242ac1c0002row1_col2\" class=\"data row1 col2\" >1</td>\n",
              "                        <td id=\"T_2dba2c8e_193e_11eb_bb17_0242ac1c0002row1_col3\" class=\"data row1 col3\" >0</td>\n",
              "                        <td id=\"T_2dba2c8e_193e_11eb_bb17_0242ac1c0002row1_col4\" class=\"data row1 col4\" >51</td>\n",
              "                        <td id=\"T_2dba2c8e_193e_11eb_bb17_0242ac1c0002row1_col5\" class=\"data row1 col5\" >25</td>\n",
              "                        <td id=\"T_2dba2c8e_193e_11eb_bb17_0242ac1c0002row1_col6\" class=\"data row1 col6\" >119</td>\n",
              "            </tr>\n",
              "            <tr>\n",
              "                        <th id=\"T_2dba2c8e_193e_11eb_bb17_0242ac1c0002level0_row2\" class=\"row_heading level0 row2\" rowspan=2>2</th>\n",
              "                        <th id=\"T_2dba2c8e_193e_11eb_bb17_0242ac1c0002level1_row2\" class=\"row_heading level1 row2\" >False</th>\n",
              "                        <td id=\"T_2dba2c8e_193e_11eb_bb17_0242ac1c0002row2_col0\" class=\"data row2 col0\" >0</td>\n",
              "                        <td id=\"T_2dba2c8e_193e_11eb_bb17_0242ac1c0002row2_col1\" class=\"data row2 col1\" >8</td>\n",
              "                        <td id=\"T_2dba2c8e_193e_11eb_bb17_0242ac1c0002row2_col2\" class=\"data row2 col2\" >0</td>\n",
              "                        <td id=\"T_2dba2c8e_193e_11eb_bb17_0242ac1c0002row2_col3\" class=\"data row2 col3\" >2</td>\n",
              "                        <td id=\"T_2dba2c8e_193e_11eb_bb17_0242ac1c0002row2_col4\" class=\"data row2 col4\" >6</td>\n",
              "                        <td id=\"T_2dba2c8e_193e_11eb_bb17_0242ac1c0002row2_col5\" class=\"data row2 col5\" >69</td>\n",
              "                        <td id=\"T_2dba2c8e_193e_11eb_bb17_0242ac1c0002row2_col6\" class=\"data row2 col6\" >85</td>\n",
              "            </tr>\n",
              "            <tr>\n",
              "                                <th id=\"T_2dba2c8e_193e_11eb_bb17_0242ac1c0002level1_row3\" class=\"row_heading level1 row3\" >True</th>\n",
              "                        <td id=\"T_2dba2c8e_193e_11eb_bb17_0242ac1c0002row3_col0\" class=\"data row3 col0\" >8</td>\n",
              "                        <td id=\"T_2dba2c8e_193e_11eb_bb17_0242ac1c0002row3_col1\" class=\"data row3 col1\" >1</td>\n",
              "                        <td id=\"T_2dba2c8e_193e_11eb_bb17_0242ac1c0002row3_col2\" class=\"data row3 col2\" >1</td>\n",
              "                        <td id=\"T_2dba2c8e_193e_11eb_bb17_0242ac1c0002row3_col3\" class=\"data row3 col3\" >0</td>\n",
              "                        <td id=\"T_2dba2c8e_193e_11eb_bb17_0242ac1c0002row3_col4\" class=\"data row3 col4\" >82</td>\n",
              "                        <td id=\"T_2dba2c8e_193e_11eb_bb17_0242ac1c0002row3_col5\" class=\"data row3 col5\" >7</td>\n",
              "                        <td id=\"T_2dba2c8e_193e_11eb_bb17_0242ac1c0002row3_col6\" class=\"data row3 col6\" >99</td>\n",
              "            </tr>\n",
              "            <tr>\n",
              "                        <th id=\"T_2dba2c8e_193e_11eb_bb17_0242ac1c0002level0_row4\" class=\"row_heading level0 row4\" rowspan=2>3</th>\n",
              "                        <th id=\"T_2dba2c8e_193e_11eb_bb17_0242ac1c0002level1_row4\" class=\"row_heading level1 row4\" >False</th>\n",
              "                        <td id=\"T_2dba2c8e_193e_11eb_bb17_0242ac1c0002row4_col0\" class=\"data row4 col0\" >8</td>\n",
              "                        <td id=\"T_2dba2c8e_193e_11eb_bb17_0242ac1c0002row4_col1\" class=\"data row4 col1\" >19</td>\n",
              "                        <td id=\"T_2dba2c8e_193e_11eb_bb17_0242ac1c0002row4_col2\" class=\"data row4 col2\" >13</td>\n",
              "                        <td id=\"T_2dba2c8e_193e_11eb_bb17_0242ac1c0002row4_col3\" class=\"data row4 col3\" >24</td>\n",
              "                        <td id=\"T_2dba2c8e_193e_11eb_bb17_0242ac1c0002row4_col4\" class=\"data row4 col4\" >68</td>\n",
              "                        <td id=\"T_2dba2c8e_193e_11eb_bb17_0242ac1c0002row4_col5\" class=\"data row4 col5\" >40</td>\n",
              "                        <td id=\"T_2dba2c8e_193e_11eb_bb17_0242ac1c0002row4_col6\" class=\"data row4 col6\" >172</td>\n",
              "            </tr>\n",
              "            <tr>\n",
              "                                <th id=\"T_2dba2c8e_193e_11eb_bb17_0242ac1c0002level1_row5\" class=\"row_heading level1 row5\" >True</th>\n",
              "                        <td id=\"T_2dba2c8e_193e_11eb_bb17_0242ac1c0002row5_col0\" class=\"data row5 col0\" >33</td>\n",
              "                        <td id=\"T_2dba2c8e_193e_11eb_bb17_0242ac1c0002row5_col1\" class=\"data row5 col1\" >6</td>\n",
              "                        <td id=\"T_2dba2c8e_193e_11eb_bb17_0242ac1c0002row5_col2\" class=\"data row5 col2\" >32</td>\n",
              "                        <td id=\"T_2dba2c8e_193e_11eb_bb17_0242ac1c0002row5_col3\" class=\"data row5 col3\" >3</td>\n",
              "                        <td id=\"T_2dba2c8e_193e_11eb_bb17_0242ac1c0002row5_col4\" class=\"data row5 col4\" >218</td>\n",
              "                        <td id=\"T_2dba2c8e_193e_11eb_bb17_0242ac1c0002row5_col5\" class=\"data row5 col5\" >27</td>\n",
              "                        <td id=\"T_2dba2c8e_193e_11eb_bb17_0242ac1c0002row5_col6\" class=\"data row5 col6\" >319</td>\n",
              "            </tr>\n",
              "            <tr>\n",
              "                        <th id=\"T_2dba2c8e_193e_11eb_bb17_0242ac1c0002level0_row6\" class=\"row_heading level0 row6\" >All</th>\n",
              "                        <th id=\"T_2dba2c8e_193e_11eb_bb17_0242ac1c0002level1_row6\" class=\"row_heading level1 row6\" ></th>\n",
              "                        <td id=\"T_2dba2c8e_193e_11eb_bb17_0242ac1c0002row6_col0\" class=\"data row6 col0\" >75</td>\n",
              "                        <td id=\"T_2dba2c8e_193e_11eb_bb17_0242ac1c0002row6_col1\" class=\"data row6 col1\" >93</td>\n",
              "                        <td id=\"T_2dba2c8e_193e_11eb_bb17_0242ac1c0002row6_col2\" class=\"data row6 col2\" >47</td>\n",
              "                        <td id=\"T_2dba2c8e_193e_11eb_bb17_0242ac1c0002row6_col3\" class=\"data row6 col3\" >30</td>\n",
              "                        <td id=\"T_2dba2c8e_193e_11eb_bb17_0242ac1c0002row6_col4\" class=\"data row6 col4\" >427</td>\n",
              "                        <td id=\"T_2dba2c8e_193e_11eb_bb17_0242ac1c0002row6_col5\" class=\"data row6 col5\" >217</td>\n",
              "                        <td id=\"T_2dba2c8e_193e_11eb_bb17_0242ac1c0002row6_col6\" class=\"data row6 col6\" >889</td>\n",
              "            </tr>\n",
              "    </tbody></table>"
            ],
            "text/plain": [
              "<pandas.io.formats.style.Styler at 0x7f379d8de208>"
            ]
          },
          "metadata": {
            "tags": []
          },
          "execution_count": 114
        }
      ]
    },
    {
      "cell_type": "markdown",
      "metadata": {
        "id": "Hhw-LoVoPrQX"
      },
      "source": [
        "## 4.S에서 탄 사람이 많이 죽었다 \n",
        "\n",
        "  - 팩트) S에서 탄 사람이 많이 죽었다. <시각화> <체크>\n",
        "    - 가설) S는 어떤동내일까? 가난한 사람이 많은 동내일까? <시각화필요> \n",
        "    - 가설) 가족이 없는 사람일까? <시각화필요>"
      ]
    },
    {
      "cell_type": "code",
      "metadata": {
        "colab": {
          "base_uri": "https://localhost:8080/",
          "height": 621
        },
        "id": "Z8W7dzoLECrM",
        "outputId": "bd3f5bd7-5701-4103-ce03-2268001758db"
      },
      "source": [
        "# 탑승한 선착장 위치에 따른 생존 비율\n",
        "pie_chart('Embarked')\n",
        "sns.countplot(data=train, x='Embarked', hue='Survived')"
      ],
      "execution_count": null,
      "outputs": [
        {
          "output_type": "display_data",
          "data": {
            "image/png": "[encoded data removed]",
            "text/plain": [
              "<Figure size 432x288 with 1 Axes>"
            ]
          },
          "metadata": {
            "tags": []
          }
        },
        {
          "output_type": "display_data",
          "data": {
            "image/png": "[encoded data removed]",
            "text/plain": [
              "<Figure size 432x288 with 3 Axes>"
            ]
          },
          "metadata": {
            "tags": []
          }
        },
        {
          "output_type": "execute_result",
          "data": {
            "text/plain": [
              "<matplotlib.axes._subplots.AxesSubplot at 0x7f37908e9828>"
            ]
          },
          "metadata": {
            "tags": []
          },
          "execution_count": 115
        },
        {
          "output_type": "display_data",
          "data": {
            "image/png": "[encoded data removed]",
            "text/plain": [
              "<Figure size 432x288 with 1 Axes>"
            ]
          },
          "metadata": {
            "tags": []
          }
        }
      ]
    },
    {
      "cell_type": "markdown",
      "metadata": {
        "id": "QyMOyOc5itGy"
      },
      "source": [
        "## 5.가족 수에 따른 영향이 있을 것이다.\n",
        "  - 가족이 없으면 많이 죽었다."
      ]
    },
    {
      "cell_type": "code",
      "metadata": {
        "colab": {
          "base_uri": "https://localhost:8080/",
          "height": 285
        },
        "id": "USg_ZuFyirYc",
        "outputId": "95596406-5e3a-4873-9b35-30fc91288e7b"
      },
      "source": [
        "titanic_df['Family_num'] = titanic_df['SibSp'] + titanic_df['Parch']+1\n",
        "sns.barplot(x=\"Family_num\", y=\"Survived\", data = titanic_df, palette=\"vlag\")\n",
        "plt.show()"
      ],
      "execution_count": null,
      "outputs": [
        {
          "output_type": "display_data",
          "data": {
            "image/png": "[encoded data removed]",
            "text/plain": [
              "<Figure size 432x288 with 1 Axes>"
            ]
          },
          "metadata": {
            "tags": []
          }
        }
      ]
    },
    {
      "cell_type": "code",
      "metadata": {
        "colab": {
          "base_uri": "https://localhost:8080/",
          "height": 205
        },
        "id": "TB3KHt7ki-Bu",
        "outputId": "cecc32e1-80d6-4309-b0a1-c16d1234c3cd"
      },
      "source": [
        "pd.crosstab([titanic_df['Pclass'],titanic_df['Last_name']=='Mr'],\n",
        "            [titanic_df['Embarked'],titanic_df['Survived']],\n",
        "            margins=True).style.background_gradient(cmap='Reds')"
      ],
      "execution_count": null,
      "outputs": [
        {
          "output_type": "execute_result",
          "data": {
            "text/html": [
              "<style  type=\"text/css\" >\n",
              "#T_3c90257e_193e_11eb_bb17_0242ac1c0002row0_col0,#T_3c90257e_193e_11eb_bb17_0242ac1c0002row0_col6{\n",
              "            background-color:  #fff3ed;\n",
              "            color:  #000000;\n",
              "        }#T_3c90257e_193e_11eb_bb17_0242ac1c0002row0_col1{\n",
              "            background-color:  #fb7b5b;\n",
              "            color:  #000000;\n",
              "        }#T_3c90257e_193e_11eb_bb17_0242ac1c0002row0_col2,#T_3c90257e_193e_11eb_bb17_0242ac1c0002row0_col4,#T_3c90257e_193e_11eb_bb17_0242ac1c0002row1_col3,#T_3c90257e_193e_11eb_bb17_0242ac1c0002row2_col0,#T_3c90257e_193e_11eb_bb17_0242ac1c0002row2_col2,#T_3c90257e_193e_11eb_bb17_0242ac1c0002row2_col6,#T_3c90257e_193e_11eb_bb17_0242ac1c0002row3_col1,#T_3c90257e_193e_11eb_bb17_0242ac1c0002row3_col3,#T_3c90257e_193e_11eb_bb17_0242ac1c0002row3_col5{\n",
              "            background-color:  #fff5f0;\n",
              "            color:  #000000;\n",
              "        }#T_3c90257e_193e_11eb_bb17_0242ac1c0002row0_col3{\n",
              "            background-color:  #fff0e8;\n",
              "            color:  #000000;\n",
              "        }#T_3c90257e_193e_11eb_bb17_0242ac1c0002row0_col5{\n",
              "            background-color:  #fdcab5;\n",
              "            color:  #000000;\n",
              "        }#T_3c90257e_193e_11eb_bb17_0242ac1c0002row1_col0{\n",
              "            background-color:  #fca082;\n",
              "            color:  #000000;\n",
              "        }#T_3c90257e_193e_11eb_bb17_0242ac1c0002row1_col1{\n",
              "            background-color:  #fdd2bf;\n",
              "            color:  #000000;\n",
              "        }#T_3c90257e_193e_11eb_bb17_0242ac1c0002row1_col2,#T_3c90257e_193e_11eb_bb17_0242ac1c0002row3_col2{\n",
              "            background-color:  #fff2eb;\n",
              "            color:  #000000;\n",
              "        }#T_3c90257e_193e_11eb_bb17_0242ac1c0002row1_col4{\n",
              "            background-color:  #fee2d5;\n",
              "            color:  #000000;\n",
              "        }#T_3c90257e_193e_11eb_bb17_0242ac1c0002row1_col5{\n",
              "            background-color:  #fee7dc;\n",
              "            color:  #000000;\n",
              "        }#T_3c90257e_193e_11eb_bb17_0242ac1c0002row1_col6{\n",
              "            background-color:  #ffeee7;\n",
              "            color:  #000000;\n",
              "        }#T_3c90257e_193e_11eb_bb17_0242ac1c0002row2_col1{\n",
              "            background-color:  #fee8de;\n",
              "            color:  #000000;\n",
              "        }#T_3c90257e_193e_11eb_bb17_0242ac1c0002row2_col3{\n",
              "            background-color:  #feeae0;\n",
              "            color:  #000000;\n",
              "        }#T_3c90257e_193e_11eb_bb17_0242ac1c0002row2_col4{\n",
              "            background-color:  #fff4ee;\n",
              "            color:  #000000;\n",
              "        }#T_3c90257e_193e_11eb_bb17_0242ac1c0002row2_col5{\n",
              "            background-color:  #fcad90;\n",
              "            color:  #000000;\n",
              "        }#T_3c90257e_193e_11eb_bb17_0242ac1c0002row3_col0,#T_3c90257e_193e_11eb_bb17_0242ac1c0002row4_col0,#T_3c90257e_193e_11eb_bb17_0242ac1c0002row4_col6{\n",
              "            background-color:  #fee3d7;\n",
              "            color:  #000000;\n",
              "        }#T_3c90257e_193e_11eb_bb17_0242ac1c0002row3_col4{\n",
              "            background-color:  #fdcdb9;\n",
              "            color:  #000000;\n",
              "        }#T_3c90257e_193e_11eb_bb17_0242ac1c0002row3_col6{\n",
              "            background-color:  #fff2ec;\n",
              "            color:  #000000;\n",
              "        }#T_3c90257e_193e_11eb_bb17_0242ac1c0002row4_col1{\n",
              "            background-color:  #fdcbb6;\n",
              "            color:  #000000;\n",
              "        }#T_3c90257e_193e_11eb_bb17_0242ac1c0002row4_col2{\n",
              "            background-color:  #fcb398;\n",
              "            color:  #000000;\n",
              "        }#T_3c90257e_193e_11eb_bb17_0242ac1c0002row4_col3{\n",
              "            background-color:  #bc141a;\n",
              "            color:  #f1f1f1;\n",
              "        }#T_3c90257e_193e_11eb_bb17_0242ac1c0002row4_col4{\n",
              "            background-color:  #fed8c7;\n",
              "            color:  #000000;\n",
              "        }#T_3c90257e_193e_11eb_bb17_0242ac1c0002row4_col5{\n",
              "            background-color:  #fdd7c6;\n",
              "            color:  #000000;\n",
              "        }#T_3c90257e_193e_11eb_bb17_0242ac1c0002row5_col0{\n",
              "            background-color:  #fb7d5d;\n",
              "            color:  #000000;\n",
              "        }#T_3c90257e_193e_11eb_bb17_0242ac1c0002row5_col1{\n",
              "            background-color:  #ffece4;\n",
              "            color:  #000000;\n",
              "        }#T_3c90257e_193e_11eb_bb17_0242ac1c0002row5_col2{\n",
              "            background-color:  #de2b25;\n",
              "            color:  #f1f1f1;\n",
              "        }#T_3c90257e_193e_11eb_bb17_0242ac1c0002row5_col3{\n",
              "            background-color:  #fee5d8;\n",
              "            color:  #000000;\n",
              "        }#T_3c90257e_193e_11eb_bb17_0242ac1c0002row5_col4{\n",
              "            background-color:  #fa6648;\n",
              "            color:  #000000;\n",
              "        }#T_3c90257e_193e_11eb_bb17_0242ac1c0002row5_col5{\n",
              "            background-color:  #fee5d9;\n",
              "            color:  #000000;\n",
              "        }#T_3c90257e_193e_11eb_bb17_0242ac1c0002row5_col6{\n",
              "            background-color:  #fcae92;\n",
              "            color:  #000000;\n",
              "        }#T_3c90257e_193e_11eb_bb17_0242ac1c0002row6_col0,#T_3c90257e_193e_11eb_bb17_0242ac1c0002row6_col1,#T_3c90257e_193e_11eb_bb17_0242ac1c0002row6_col2,#T_3c90257e_193e_11eb_bb17_0242ac1c0002row6_col3,#T_3c90257e_193e_11eb_bb17_0242ac1c0002row6_col4,#T_3c90257e_193e_11eb_bb17_0242ac1c0002row6_col5,#T_3c90257e_193e_11eb_bb17_0242ac1c0002row6_col6{\n",
              "            background-color:  #67000d;\n",
              "            color:  #f1f1f1;\n",
              "        }</style><table id=\"T_3c90257e_193e_11eb_bb17_0242ac1c0002\" ><thead>    <tr>        <th class=\"blank\" ></th>        <th class=\"index_name level0\" >Embarked</th>        <th class=\"col_heading level0 col0\" colspan=2>C</th>        <th class=\"col_heading level0 col2\" colspan=2>Q</th>        <th class=\"col_heading level0 col4\" colspan=2>S</th>        <th class=\"col_heading level0 col6\" >All</th>    </tr>    <tr>        <th class=\"blank\" ></th>        <th class=\"index_name level1\" >Survived</th>        <th class=\"col_heading level1 col0\" >0</th>        <th class=\"col_heading level1 col1\" >1</th>        <th class=\"col_heading level1 col2\" >0</th>        <th class=\"col_heading level1 col3\" >1</th>        <th class=\"col_heading level1 col4\" >0</th>        <th class=\"col_heading level1 col5\" >1</th>        <th class=\"col_heading level1 col6\" ></th>    </tr>    <tr>        <th class=\"index_name level0\" >Pclass</th>        <th class=\"index_name level1\" >Last_name</th>        <th class=\"blank\" ></th>        <th class=\"blank\" ></th>        <th class=\"blank\" ></th>        <th class=\"blank\" ></th>        <th class=\"blank\" ></th>        <th class=\"blank\" ></th>        <th class=\"blank\" ></th>    </tr></thead><tbody>\n",
              "                <tr>\n",
              "                        <th id=\"T_3c90257e_193e_11eb_bb17_0242ac1c0002level0_row0\" class=\"row_heading level0 row0\" rowspan=2>1</th>\n",
              "                        <th id=\"T_3c90257e_193e_11eb_bb17_0242ac1c0002level1_row0\" class=\"row_heading level1 row0\" >False</th>\n",
              "                        <td id=\"T_3c90257e_193e_11eb_bb17_0242ac1c0002row0_col0\" class=\"data row0 col0\" >1</td>\n",
              "                        <td id=\"T_3c90257e_193e_11eb_bb17_0242ac1c0002row0_col1\" class=\"data row0 col1\" >42</td>\n",
              "                        <td id=\"T_3c90257e_193e_11eb_bb17_0242ac1c0002row0_col2\" class=\"data row0 col2\" >0</td>\n",
              "                        <td id=\"T_3c90257e_193e_11eb_bb17_0242ac1c0002row0_col3\" class=\"data row0 col3\" >1</td>\n",
              "                        <td id=\"T_3c90257e_193e_11eb_bb17_0242ac1c0002row0_col4\" class=\"data row0 col4\" >2</td>\n",
              "                        <td id=\"T_3c90257e_193e_11eb_bb17_0242ac1c0002row0_col5\" class=\"data row0 col5\" >49</td>\n",
              "                        <td id=\"T_3c90257e_193e_11eb_bb17_0242ac1c0002row0_col6\" class=\"data row0 col6\" >95</td>\n",
              "            </tr>\n",
              "            <tr>\n",
              "                                <th id=\"T_3c90257e_193e_11eb_bb17_0242ac1c0002level1_row1\" class=\"row_heading level1 row1\" >True</th>\n",
              "                        <td id=\"T_3c90257e_193e_11eb_bb17_0242ac1c0002row1_col0\" class=\"data row1 col0\" >25</td>\n",
              "                        <td id=\"T_3c90257e_193e_11eb_bb17_0242ac1c0002row1_col1\" class=\"data row1 col1\" >17</td>\n",
              "                        <td id=\"T_3c90257e_193e_11eb_bb17_0242ac1c0002row1_col2\" class=\"data row1 col2\" >1</td>\n",
              "                        <td id=\"T_3c90257e_193e_11eb_bb17_0242ac1c0002row1_col3\" class=\"data row1 col3\" >0</td>\n",
              "                        <td id=\"T_3c90257e_193e_11eb_bb17_0242ac1c0002row1_col4\" class=\"data row1 col4\" >51</td>\n",
              "                        <td id=\"T_3c90257e_193e_11eb_bb17_0242ac1c0002row1_col5\" class=\"data row1 col5\" >25</td>\n",
              "                        <td id=\"T_3c90257e_193e_11eb_bb17_0242ac1c0002row1_col6\" class=\"data row1 col6\" >119</td>\n",
              "            </tr>\n",
              "            <tr>\n",
              "                        <th id=\"T_3c90257e_193e_11eb_bb17_0242ac1c0002level0_row2\" class=\"row_heading level0 row2\" rowspan=2>2</th>\n",
              "                        <th id=\"T_3c90257e_193e_11eb_bb17_0242ac1c0002level1_row2\" class=\"row_heading level1 row2\" >False</th>\n",
              "                        <td id=\"T_3c90257e_193e_11eb_bb17_0242ac1c0002row2_col0\" class=\"data row2 col0\" >0</td>\n",
              "                        <td id=\"T_3c90257e_193e_11eb_bb17_0242ac1c0002row2_col1\" class=\"data row2 col1\" >8</td>\n",
              "                        <td id=\"T_3c90257e_193e_11eb_bb17_0242ac1c0002row2_col2\" class=\"data row2 col2\" >0</td>\n",
              "                        <td id=\"T_3c90257e_193e_11eb_bb17_0242ac1c0002row2_col3\" class=\"data row2 col3\" >2</td>\n",
              "                        <td id=\"T_3c90257e_193e_11eb_bb17_0242ac1c0002row2_col4\" class=\"data row2 col4\" >6</td>\n",
              "                        <td id=\"T_3c90257e_193e_11eb_bb17_0242ac1c0002row2_col5\" class=\"data row2 col5\" >69</td>\n",
              "                        <td id=\"T_3c90257e_193e_11eb_bb17_0242ac1c0002row2_col6\" class=\"data row2 col6\" >85</td>\n",
              "            </tr>\n",
              "            <tr>\n",
              "                                <th id=\"T_3c90257e_193e_11eb_bb17_0242ac1c0002level1_row3\" class=\"row_heading level1 row3\" >True</th>\n",
              "                        <td id=\"T_3c90257e_193e_11eb_bb17_0242ac1c0002row3_col0\" class=\"data row3 col0\" >8</td>\n",
              "                        <td id=\"T_3c90257e_193e_11eb_bb17_0242ac1c0002row3_col1\" class=\"data row3 col1\" >1</td>\n",
              "                        <td id=\"T_3c90257e_193e_11eb_bb17_0242ac1c0002row3_col2\" class=\"data row3 col2\" >1</td>\n",
              "                        <td id=\"T_3c90257e_193e_11eb_bb17_0242ac1c0002row3_col3\" class=\"data row3 col3\" >0</td>\n",
              "                        <td id=\"T_3c90257e_193e_11eb_bb17_0242ac1c0002row3_col4\" class=\"data row3 col4\" >82</td>\n",
              "                        <td id=\"T_3c90257e_193e_11eb_bb17_0242ac1c0002row3_col5\" class=\"data row3 col5\" >7</td>\n",
              "                        <td id=\"T_3c90257e_193e_11eb_bb17_0242ac1c0002row3_col6\" class=\"data row3 col6\" >99</td>\n",
              "            </tr>\n",
              "            <tr>\n",
              "                        <th id=\"T_3c90257e_193e_11eb_bb17_0242ac1c0002level0_row4\" class=\"row_heading level0 row4\" rowspan=2>3</th>\n",
              "                        <th id=\"T_3c90257e_193e_11eb_bb17_0242ac1c0002level1_row4\" class=\"row_heading level1 row4\" >False</th>\n",
              "                        <td id=\"T_3c90257e_193e_11eb_bb17_0242ac1c0002row4_col0\" class=\"data row4 col0\" >8</td>\n",
              "                        <td id=\"T_3c90257e_193e_11eb_bb17_0242ac1c0002row4_col1\" class=\"data row4 col1\" >19</td>\n",
              "                        <td id=\"T_3c90257e_193e_11eb_bb17_0242ac1c0002row4_col2\" class=\"data row4 col2\" >13</td>\n",
              "                        <td id=\"T_3c90257e_193e_11eb_bb17_0242ac1c0002row4_col3\" class=\"data row4 col3\" >24</td>\n",
              "                        <td id=\"T_3c90257e_193e_11eb_bb17_0242ac1c0002row4_col4\" class=\"data row4 col4\" >68</td>\n",
              "                        <td id=\"T_3c90257e_193e_11eb_bb17_0242ac1c0002row4_col5\" class=\"data row4 col5\" >40</td>\n",
              "                        <td id=\"T_3c90257e_193e_11eb_bb17_0242ac1c0002row4_col6\" class=\"data row4 col6\" >172</td>\n",
              "            </tr>\n",
              "            <tr>\n",
              "                                <th id=\"T_3c90257e_193e_11eb_bb17_0242ac1c0002level1_row5\" class=\"row_heading level1 row5\" >True</th>\n",
              "                        <td id=\"T_3c90257e_193e_11eb_bb17_0242ac1c0002row5_col0\" class=\"data row5 col0\" >33</td>\n",
              "                        <td id=\"T_3c90257e_193e_11eb_bb17_0242ac1c0002row5_col1\" class=\"data row5 col1\" >6</td>\n",
              "                        <td id=\"T_3c90257e_193e_11eb_bb17_0242ac1c0002row5_col2\" class=\"data row5 col2\" >32</td>\n",
              "                        <td id=\"T_3c90257e_193e_11eb_bb17_0242ac1c0002row5_col3\" class=\"data row5 col3\" >3</td>\n",
              "                        <td id=\"T_3c90257e_193e_11eb_bb17_0242ac1c0002row5_col4\" class=\"data row5 col4\" >218</td>\n",
              "                        <td id=\"T_3c90257e_193e_11eb_bb17_0242ac1c0002row5_col5\" class=\"data row5 col5\" >27</td>\n",
              "                        <td id=\"T_3c90257e_193e_11eb_bb17_0242ac1c0002row5_col6\" class=\"data row5 col6\" >319</td>\n",
              "            </tr>\n",
              "            <tr>\n",
              "                        <th id=\"T_3c90257e_193e_11eb_bb17_0242ac1c0002level0_row6\" class=\"row_heading level0 row6\" >All</th>\n",
              "                        <th id=\"T_3c90257e_193e_11eb_bb17_0242ac1c0002level1_row6\" class=\"row_heading level1 row6\" ></th>\n",
              "                        <td id=\"T_3c90257e_193e_11eb_bb17_0242ac1c0002row6_col0\" class=\"data row6 col0\" >75</td>\n",
              "                        <td id=\"T_3c90257e_193e_11eb_bb17_0242ac1c0002row6_col1\" class=\"data row6 col1\" >93</td>\n",
              "                        <td id=\"T_3c90257e_193e_11eb_bb17_0242ac1c0002row6_col2\" class=\"data row6 col2\" >47</td>\n",
              "                        <td id=\"T_3c90257e_193e_11eb_bb17_0242ac1c0002row6_col3\" class=\"data row6 col3\" >30</td>\n",
              "                        <td id=\"T_3c90257e_193e_11eb_bb17_0242ac1c0002row6_col4\" class=\"data row6 col4\" >427</td>\n",
              "                        <td id=\"T_3c90257e_193e_11eb_bb17_0242ac1c0002row6_col5\" class=\"data row6 col5\" >217</td>\n",
              "                        <td id=\"T_3c90257e_193e_11eb_bb17_0242ac1c0002row6_col6\" class=\"data row6 col6\" >889</td>\n",
              "            </tr>\n",
              "    </tbody></table>"
            ],
            "text/plain": [
              "<pandas.io.formats.style.Styler at 0x7f37906efb70>"
            ]
          },
          "metadata": {
            "tags": []
          },
          "execution_count": 117
        }
      ]
    },
    {
      "cell_type": "markdown",
      "metadata": {
        "id": "T6zCkXo_mDp2"
      },
      "source": [
        "#"
      ]
    },
    {
      "cell_type": "code",
      "metadata": {
        "colab": {
          "base_uri": "https://localhost:8080/",
          "height": 298
        },
        "id": "7cnGNFADjLbO",
        "outputId": "47496905-9b71-4ea6-b698-d53ef3b63d30"
      },
      "source": [
        "pd.crosstab([titanic_df['Sex'],titanic_df['Survived'],titanic_df['Embarked']],\n",
        "            titanic_df['Family_num'],\n",
        "            margins=True).style.background_gradient(cmap='Blues')"
      ],
      "execution_count": null,
      "outputs": [
        {
          "output_type": "execute_result",
          "data": {
            "text/html": [
              "<style  type=\"text/css\" >\n",
              "#T_59ad4012_1928_11eb_bb17_0242ac1c0002row0_col0,#T_59ad4012_1928_11eb_bb17_0242ac1c0002row0_col3,#T_59ad4012_1928_11eb_bb17_0242ac1c0002row0_col4,#T_59ad4012_1928_11eb_bb17_0242ac1c0002row0_col5,#T_59ad4012_1928_11eb_bb17_0242ac1c0002row0_col6,#T_59ad4012_1928_11eb_bb17_0242ac1c0002row0_col7,#T_59ad4012_1928_11eb_bb17_0242ac1c0002row0_col8,#T_59ad4012_1928_11eb_bb17_0242ac1c0002row1_col1,#T_59ad4012_1928_11eb_bb17_0242ac1c0002row1_col3,#T_59ad4012_1928_11eb_bb17_0242ac1c0002row1_col4,#T_59ad4012_1928_11eb_bb17_0242ac1c0002row1_col6,#T_59ad4012_1928_11eb_bb17_0242ac1c0002row1_col7,#T_59ad4012_1928_11eb_bb17_0242ac1c0002row1_col8,#T_59ad4012_1928_11eb_bb17_0242ac1c0002row3_col5,#T_59ad4012_1928_11eb_bb17_0242ac1c0002row3_col6,#T_59ad4012_1928_11eb_bb17_0242ac1c0002row3_col7,#T_59ad4012_1928_11eb_bb17_0242ac1c0002row3_col8,#T_59ad4012_1928_11eb_bb17_0242ac1c0002row4_col2,#T_59ad4012_1928_11eb_bb17_0242ac1c0002row4_col3,#T_59ad4012_1928_11eb_bb17_0242ac1c0002row4_col4,#T_59ad4012_1928_11eb_bb17_0242ac1c0002row4_col5,#T_59ad4012_1928_11eb_bb17_0242ac1c0002row4_col6,#T_59ad4012_1928_11eb_bb17_0242ac1c0002row4_col7,#T_59ad4012_1928_11eb_bb17_0242ac1c0002row4_col8,#T_59ad4012_1928_11eb_bb17_0242ac1c0002row5_col7,#T_59ad4012_1928_11eb_bb17_0242ac1c0002row5_col8,#T_59ad4012_1928_11eb_bb17_0242ac1c0002row6_col4,#T_59ad4012_1928_11eb_bb17_0242ac1c0002row6_col5,#T_59ad4012_1928_11eb_bb17_0242ac1c0002row6_col6,#T_59ad4012_1928_11eb_bb17_0242ac1c0002row6_col7,#T_59ad4012_1928_11eb_bb17_0242ac1c0002row6_col8,#T_59ad4012_1928_11eb_bb17_0242ac1c0002row7_col3,#T_59ad4012_1928_11eb_bb17_0242ac1c0002row7_col4,#T_59ad4012_1928_11eb_bb17_0242ac1c0002row7_col6,#T_59ad4012_1928_11eb_bb17_0242ac1c0002row7_col7,#T_59ad4012_1928_11eb_bb17_0242ac1c0002row7_col8,#T_59ad4012_1928_11eb_bb17_0242ac1c0002row9_col3,#T_59ad4012_1928_11eb_bb17_0242ac1c0002row9_col4,#T_59ad4012_1928_11eb_bb17_0242ac1c0002row9_col5,#T_59ad4012_1928_11eb_bb17_0242ac1c0002row9_col6,#T_59ad4012_1928_11eb_bb17_0242ac1c0002row9_col7,#T_59ad4012_1928_11eb_bb17_0242ac1c0002row9_col8,#T_59ad4012_1928_11eb_bb17_0242ac1c0002row10_col0,#T_59ad4012_1928_11eb_bb17_0242ac1c0002row10_col1,#T_59ad4012_1928_11eb_bb17_0242ac1c0002row10_col2,#T_59ad4012_1928_11eb_bb17_0242ac1c0002row10_col3,#T_59ad4012_1928_11eb_bb17_0242ac1c0002row10_col4,#T_59ad4012_1928_11eb_bb17_0242ac1c0002row10_col5,#T_59ad4012_1928_11eb_bb17_0242ac1c0002row10_col6,#T_59ad4012_1928_11eb_bb17_0242ac1c0002row10_col7,#T_59ad4012_1928_11eb_bb17_0242ac1c0002row10_col8,#T_59ad4012_1928_11eb_bb17_0242ac1c0002row10_col9,#T_59ad4012_1928_11eb_bb17_0242ac1c0002row11_col4,#T_59ad4012_1928_11eb_bb17_0242ac1c0002row11_col5,#T_59ad4012_1928_11eb_bb17_0242ac1c0002row11_col7,#T_59ad4012_1928_11eb_bb17_0242ac1c0002row11_col8{\n",
              "            background-color:  #f7fbff;\n",
              "            color:  #000000;\n",
              "        }#T_59ad4012_1928_11eb_bb17_0242ac1c0002row0_col1,#T_59ad4012_1928_11eb_bb17_0242ac1c0002row4_col1,#T_59ad4012_1928_11eb_bb17_0242ac1c0002row9_col9{\n",
              "            background-color:  #f2f7fd;\n",
              "            color:  #000000;\n",
              "        }#T_59ad4012_1928_11eb_bb17_0242ac1c0002row0_col2,#T_59ad4012_1928_11eb_bb17_0242ac1c0002row1_col2,#T_59ad4012_1928_11eb_bb17_0242ac1c0002row7_col2{\n",
              "            background-color:  #f5fafe;\n",
              "            color:  #000000;\n",
              "        }#T_59ad4012_1928_11eb_bb17_0242ac1c0002row0_col9,#T_59ad4012_1928_11eb_bb17_0242ac1c0002row1_col0,#T_59ad4012_1928_11eb_bb17_0242ac1c0002row1_col9{\n",
              "            background-color:  #f6faff;\n",
              "            color:  #000000;\n",
              "        }#T_59ad4012_1928_11eb_bb17_0242ac1c0002row1_col5,#T_59ad4012_1928_11eb_bb17_0242ac1c0002row7_col0,#T_59ad4012_1928_11eb_bb17_0242ac1c0002row9_col2{\n",
              "            background-color:  #eef5fc;\n",
              "            color:  #000000;\n",
              "        }#T_59ad4012_1928_11eb_bb17_0242ac1c0002row2_col0,#T_59ad4012_1928_11eb_bb17_0242ac1c0002row6_col3{\n",
              "            background-color:  #f1f7fd;\n",
              "            color:  #000000;\n",
              "        }#T_59ad4012_1928_11eb_bb17_0242ac1c0002row2_col1,#T_59ad4012_1928_11eb_bb17_0242ac1c0002row2_col9,#T_59ad4012_1928_11eb_bb17_0242ac1c0002row3_col2,#T_59ad4012_1928_11eb_bb17_0242ac1c0002row3_col9,#T_59ad4012_1928_11eb_bb17_0242ac1c0002row5_col4{\n",
              "            background-color:  #eaf2fb;\n",
              "            color:  #000000;\n",
              "        }#T_59ad4012_1928_11eb_bb17_0242ac1c0002row2_col2,#T_59ad4012_1928_11eb_bb17_0242ac1c0002row6_col2{\n",
              "            background-color:  #ebf3fb;\n",
              "            color:  #000000;\n",
              "        }#T_59ad4012_1928_11eb_bb17_0242ac1c0002row2_col3{\n",
              "            background-color:  #e3eef8;\n",
              "            color:  #000000;\n",
              "        }#T_59ad4012_1928_11eb_bb17_0242ac1c0002row2_col4{\n",
              "            background-color:  #4a98c9;\n",
              "            color:  #000000;\n",
              "        }#T_59ad4012_1928_11eb_bb17_0242ac1c0002row2_col5,#T_59ad4012_1928_11eb_bb17_0242ac1c0002row7_col5{\n",
              "            background-color:  #d3e4f3;\n",
              "            color:  #000000;\n",
              "        }#T_59ad4012_1928_11eb_bb17_0242ac1c0002row2_col6{\n",
              "            background-color:  #8dc1dd;\n",
              "            color:  #000000;\n",
              "        }#T_59ad4012_1928_11eb_bb17_0242ac1c0002row2_col7{\n",
              "            background-color:  #abd0e6;\n",
              "            color:  #000000;\n",
              "        }#T_59ad4012_1928_11eb_bb17_0242ac1c0002row2_col8{\n",
              "            background-color:  #89bedc;\n",
              "            color:  #000000;\n",
              "        }#T_59ad4012_1928_11eb_bb17_0242ac1c0002row3_col0,#T_59ad4012_1928_11eb_bb17_0242ac1c0002row7_col9{\n",
              "            background-color:  #eff6fc;\n",
              "            color:  #000000;\n",
              "        }#T_59ad4012_1928_11eb_bb17_0242ac1c0002row3_col1,#T_59ad4012_1928_11eb_bb17_0242ac1c0002row5_col9{\n",
              "            background-color:  #d9e7f5;\n",
              "            color:  #000000;\n",
              "        }#T_59ad4012_1928_11eb_bb17_0242ac1c0002row3_col3{\n",
              "            background-color:  #cfe1f2;\n",
              "            color:  #000000;\n",
              "        }#T_59ad4012_1928_11eb_bb17_0242ac1c0002row3_col4,#T_59ad4012_1928_11eb_bb17_0242ac1c0002row5_col5{\n",
              "            background-color:  #dceaf6;\n",
              "            color:  #000000;\n",
              "        }#T_59ad4012_1928_11eb_bb17_0242ac1c0002row4_col0{\n",
              "            background-color:  #f0f6fd;\n",
              "            color:  #000000;\n",
              "        }#T_59ad4012_1928_11eb_bb17_0242ac1c0002row4_col9,#T_59ad4012_1928_11eb_bb17_0242ac1c0002row7_col1{\n",
              "            background-color:  #f2f8fd;\n",
              "            color:  #000000;\n",
              "        }#T_59ad4012_1928_11eb_bb17_0242ac1c0002row5_col0{\n",
              "            background-color:  #e4eff9;\n",
              "            color:  #000000;\n",
              "        }#T_59ad4012_1928_11eb_bb17_0242ac1c0002row5_col1{\n",
              "            background-color:  #c4daee;\n",
              "            color:  #000000;\n",
              "        }#T_59ad4012_1928_11eb_bb17_0242ac1c0002row5_col2{\n",
              "            background-color:  #bed8ec;\n",
              "            color:  #000000;\n",
              "        }#T_59ad4012_1928_11eb_bb17_0242ac1c0002row5_col3{\n",
              "            background-color:  #a8cee4;\n",
              "            color:  #000000;\n",
              "        }#T_59ad4012_1928_11eb_bb17_0242ac1c0002row5_col6,#T_59ad4012_1928_11eb_bb17_0242ac1c0002row8_col6{\n",
              "            background-color:  #c6dbef;\n",
              "            color:  #000000;\n",
              "        }#T_59ad4012_1928_11eb_bb17_0242ac1c0002row6_col0,#T_59ad4012_1928_11eb_bb17_0242ac1c0002row11_col6,#T_59ad4012_1928_11eb_bb17_0242ac1c0002row11_col9{\n",
              "            background-color:  #e7f0fa;\n",
              "            color:  #000000;\n",
              "        }#T_59ad4012_1928_11eb_bb17_0242ac1c0002row6_col1{\n",
              "            background-color:  #e8f1fa;\n",
              "            color:  #000000;\n",
              "        }#T_59ad4012_1928_11eb_bb17_0242ac1c0002row6_col9{\n",
              "            background-color:  #e9f2fa;\n",
              "            color:  #000000;\n",
              "        }#T_59ad4012_1928_11eb_bb17_0242ac1c0002row8_col0{\n",
              "            background-color:  #68acd5;\n",
              "            color:  #000000;\n",
              "        }#T_59ad4012_1928_11eb_bb17_0242ac1c0002row8_col1{\n",
              "            background-color:  #c7dbef;\n",
              "            color:  #000000;\n",
              "        }#T_59ad4012_1928_11eb_bb17_0242ac1c0002row8_col2{\n",
              "            background-color:  #cddff1;\n",
              "            color:  #000000;\n",
              "        }#T_59ad4012_1928_11eb_bb17_0242ac1c0002row8_col3{\n",
              "            background-color:  #dce9f6;\n",
              "            color:  #000000;\n",
              "        }#T_59ad4012_1928_11eb_bb17_0242ac1c0002row8_col4{\n",
              "            background-color:  #d0e1f2;\n",
              "            color:  #000000;\n",
              "        }#T_59ad4012_1928_11eb_bb17_0242ac1c0002row8_col5{\n",
              "            background-color:  #7db8da;\n",
              "            color:  #000000;\n",
              "        }#T_59ad4012_1928_11eb_bb17_0242ac1c0002row8_col7{\n",
              "            background-color:  #3787c0;\n",
              "            color:  #000000;\n",
              "        }#T_59ad4012_1928_11eb_bb17_0242ac1c0002row8_col8{\n",
              "            background-color:  #539ecd;\n",
              "            color:  #000000;\n",
              "        }#T_59ad4012_1928_11eb_bb17_0242ac1c0002row8_col9{\n",
              "            background-color:  #91c3de;\n",
              "            color:  #000000;\n",
              "        }#T_59ad4012_1928_11eb_bb17_0242ac1c0002row9_col0{\n",
              "            background-color:  #f3f8fe;\n",
              "            color:  #000000;\n",
              "        }#T_59ad4012_1928_11eb_bb17_0242ac1c0002row9_col1,#T_59ad4012_1928_11eb_bb17_0242ac1c0002row11_col1{\n",
              "            background-color:  #ecf4fb;\n",
              "            color:  #000000;\n",
              "        }#T_59ad4012_1928_11eb_bb17_0242ac1c0002row11_col0{\n",
              "            background-color:  #e6f0f9;\n",
              "            color:  #000000;\n",
              "        }#T_59ad4012_1928_11eb_bb17_0242ac1c0002row11_col2{\n",
              "            background-color:  #deebf7;\n",
              "            color:  #000000;\n",
              "        }#T_59ad4012_1928_11eb_bb17_0242ac1c0002row11_col3{\n",
              "            background-color:  #d5e5f4;\n",
              "            color:  #000000;\n",
              "        }#T_59ad4012_1928_11eb_bb17_0242ac1c0002row12_col0,#T_59ad4012_1928_11eb_bb17_0242ac1c0002row12_col1,#T_59ad4012_1928_11eb_bb17_0242ac1c0002row12_col2,#T_59ad4012_1928_11eb_bb17_0242ac1c0002row12_col3,#T_59ad4012_1928_11eb_bb17_0242ac1c0002row12_col4,#T_59ad4012_1928_11eb_bb17_0242ac1c0002row12_col5,#T_59ad4012_1928_11eb_bb17_0242ac1c0002row12_col6,#T_59ad4012_1928_11eb_bb17_0242ac1c0002row12_col7,#T_59ad4012_1928_11eb_bb17_0242ac1c0002row12_col8,#T_59ad4012_1928_11eb_bb17_0242ac1c0002row12_col9{\n",
              "            background-color:  #08306b;\n",
              "            color:  #f1f1f1;\n",
              "        }</style><table id=\"T_59ad4012_1928_11eb_bb17_0242ac1c0002\" ><thead>    <tr>        <th class=\"blank\" ></th>        <th class=\"blank\" ></th>        <th class=\"index_name level0\" >Family_num</th>        <th class=\"col_heading level0 col0\" >1</th>        <th class=\"col_heading level0 col1\" >2</th>        <th class=\"col_heading level0 col2\" >3</th>        <th class=\"col_heading level0 col3\" >4</th>        <th class=\"col_heading level0 col4\" >5</th>        <th class=\"col_heading level0 col5\" >6</th>        <th class=\"col_heading level0 col6\" >7</th>        <th class=\"col_heading level0 col7\" >8</th>        <th class=\"col_heading level0 col8\" >11</th>        <th class=\"col_heading level0 col9\" >All</th>    </tr>    <tr>        <th class=\"index_name level0\" >Sex</th>        <th class=\"index_name level1\" >Survived</th>        <th class=\"index_name level2\" >Embarked</th>        <th class=\"blank\" ></th>        <th class=\"blank\" ></th>        <th class=\"blank\" ></th>        <th class=\"blank\" ></th>        <th class=\"blank\" ></th>        <th class=\"blank\" ></th>        <th class=\"blank\" ></th>        <th class=\"blank\" ></th>        <th class=\"blank\" ></th>        <th class=\"blank\" ></th>    </tr></thead><tbody>\n",
              "                <tr>\n",
              "                        <th id=\"T_59ad4012_1928_11eb_bb17_0242ac1c0002level0_row0\" class=\"row_heading level0 row0\" rowspan=6>female</th>\n",
              "                        <th id=\"T_59ad4012_1928_11eb_bb17_0242ac1c0002level1_row0\" class=\"row_heading level1 row0\" rowspan=3>0</th>\n",
              "                        <th id=\"T_59ad4012_1928_11eb_bb17_0242ac1c0002level2_row0\" class=\"row_heading level2 row0\" >C</th>\n",
              "                        <td id=\"T_59ad4012_1928_11eb_bb17_0242ac1c0002row0_col0\" class=\"data row0 col0\" >2</td>\n",
              "                        <td id=\"T_59ad4012_1928_11eb_bb17_0242ac1c0002row0_col1\" class=\"data row0 col1\" >5</td>\n",
              "                        <td id=\"T_59ad4012_1928_11eb_bb17_0242ac1c0002row0_col2\" class=\"data row0 col2\" >2</td>\n",
              "                        <td id=\"T_59ad4012_1928_11eb_bb17_0242ac1c0002row0_col3\" class=\"data row0 col3\" >0</td>\n",
              "                        <td id=\"T_59ad4012_1928_11eb_bb17_0242ac1c0002row0_col4\" class=\"data row0 col4\" >0</td>\n",
              "                        <td id=\"T_59ad4012_1928_11eb_bb17_0242ac1c0002row0_col5\" class=\"data row0 col5\" >0</td>\n",
              "                        <td id=\"T_59ad4012_1928_11eb_bb17_0242ac1c0002row0_col6\" class=\"data row0 col6\" >0</td>\n",
              "                        <td id=\"T_59ad4012_1928_11eb_bb17_0242ac1c0002row0_col7\" class=\"data row0 col7\" >0</td>\n",
              "                        <td id=\"T_59ad4012_1928_11eb_bb17_0242ac1c0002row0_col8\" class=\"data row0 col8\" >0</td>\n",
              "                        <td id=\"T_59ad4012_1928_11eb_bb17_0242ac1c0002row0_col9\" class=\"data row0 col9\" >9</td>\n",
              "            </tr>\n",
              "            <tr>\n",
              "                                        <th id=\"T_59ad4012_1928_11eb_bb17_0242ac1c0002level2_row1\" class=\"row_heading level2 row1\" >Q</th>\n",
              "                        <td id=\"T_59ad4012_1928_11eb_bb17_0242ac1c0002row1_col0\" class=\"data row1 col0\" >6</td>\n",
              "                        <td id=\"T_59ad4012_1928_11eb_bb17_0242ac1c0002row1_col1\" class=\"data row1 col1\" >0</td>\n",
              "                        <td id=\"T_59ad4012_1928_11eb_bb17_0242ac1c0002row1_col2\" class=\"data row1 col2\" >2</td>\n",
              "                        <td id=\"T_59ad4012_1928_11eb_bb17_0242ac1c0002row1_col3\" class=\"data row1 col3\" >0</td>\n",
              "                        <td id=\"T_59ad4012_1928_11eb_bb17_0242ac1c0002row1_col4\" class=\"data row1 col4\" >0</td>\n",
              "                        <td id=\"T_59ad4012_1928_11eb_bb17_0242ac1c0002row1_col5\" class=\"data row1 col5\" >1</td>\n",
              "                        <td id=\"T_59ad4012_1928_11eb_bb17_0242ac1c0002row1_col6\" class=\"data row1 col6\" >0</td>\n",
              "                        <td id=\"T_59ad4012_1928_11eb_bb17_0242ac1c0002row1_col7\" class=\"data row1 col7\" >0</td>\n",
              "                        <td id=\"T_59ad4012_1928_11eb_bb17_0242ac1c0002row1_col8\" class=\"data row1 col8\" >0</td>\n",
              "                        <td id=\"T_59ad4012_1928_11eb_bb17_0242ac1c0002row1_col9\" class=\"data row1 col9\" >9</td>\n",
              "            </tr>\n",
              "            <tr>\n",
              "                                        <th id=\"T_59ad4012_1928_11eb_bb17_0242ac1c0002level2_row2\" class=\"row_heading level2 row2\" >S</th>\n",
              "                        <td id=\"T_59ad4012_1928_11eb_bb17_0242ac1c0002row2_col0\" class=\"data row2 col0\" >19</td>\n",
              "                        <td id=\"T_59ad4012_1928_11eb_bb17_0242ac1c0002row2_col1\" class=\"data row2 col1\" >11</td>\n",
              "                        <td id=\"T_59ad4012_1928_11eb_bb17_0242ac1c0002row2_col2\" class=\"data row2 col2\" >7</td>\n",
              "                        <td id=\"T_59ad4012_1928_11eb_bb17_0242ac1c0002row2_col3\" class=\"data row2 col3\" >3</td>\n",
              "                        <td id=\"T_59ad4012_1928_11eb_bb17_0242ac1c0002row2_col4\" class=\"data row2 col4\" >9</td>\n",
              "                        <td id=\"T_59ad4012_1928_11eb_bb17_0242ac1c0002row2_col5\" class=\"data row2 col5\" >4</td>\n",
              "                        <td id=\"T_59ad4012_1928_11eb_bb17_0242ac1c0002row2_col6\" class=\"data row2 col6\" >5</td>\n",
              "                        <td id=\"T_59ad4012_1928_11eb_bb17_0242ac1c0002row2_col7\" class=\"data row2 col7\" >2</td>\n",
              "                        <td id=\"T_59ad4012_1928_11eb_bb17_0242ac1c0002row2_col8\" class=\"data row2 col8\" >3</td>\n",
              "                        <td id=\"T_59ad4012_1928_11eb_bb17_0242ac1c0002row2_col9\" class=\"data row2 col9\" >63</td>\n",
              "            </tr>\n",
              "            <tr>\n",
              "                                <th id=\"T_59ad4012_1928_11eb_bb17_0242ac1c0002level1_row3\" class=\"row_heading level1 row3\" rowspan=3>1</th>\n",
              "                        <th id=\"T_59ad4012_1928_11eb_bb17_0242ac1c0002level2_row3\" class=\"row_heading level2 row3\" >C</th>\n",
              "                        <td id=\"T_59ad4012_1928_11eb_bb17_0242ac1c0002row3_col0\" class=\"data row3 col0\" >23</td>\n",
              "                        <td id=\"T_59ad4012_1928_11eb_bb17_0242ac1c0002row3_col1\" class=\"data row3 col1\" >25</td>\n",
              "                        <td id=\"T_59ad4012_1928_11eb_bb17_0242ac1c0002row3_col2\" class=\"data row3 col2\" >8</td>\n",
              "                        <td id=\"T_59ad4012_1928_11eb_bb17_0242ac1c0002row3_col3\" class=\"data row3 col3\" >6</td>\n",
              "                        <td id=\"T_59ad4012_1928_11eb_bb17_0242ac1c0002row3_col4\" class=\"data row3 col4\" >2</td>\n",
              "                        <td id=\"T_59ad4012_1928_11eb_bb17_0242ac1c0002row3_col5\" class=\"data row3 col5\" >0</td>\n",
              "                        <td id=\"T_59ad4012_1928_11eb_bb17_0242ac1c0002row3_col6\" class=\"data row3 col6\" >0</td>\n",
              "                        <td id=\"T_59ad4012_1928_11eb_bb17_0242ac1c0002row3_col7\" class=\"data row3 col7\" >0</td>\n",
              "                        <td id=\"T_59ad4012_1928_11eb_bb17_0242ac1c0002row3_col8\" class=\"data row3 col8\" >0</td>\n",
              "                        <td id=\"T_59ad4012_1928_11eb_bb17_0242ac1c0002row3_col9\" class=\"data row3 col9\" >64</td>\n",
              "            </tr>\n",
              "            <tr>\n",
              "                                        <th id=\"T_59ad4012_1928_11eb_bb17_0242ac1c0002level2_row4\" class=\"row_heading level2 row4\" >Q</th>\n",
              "                        <td id=\"T_59ad4012_1928_11eb_bb17_0242ac1c0002row4_col0\" class=\"data row4 col0\" >21</td>\n",
              "                        <td id=\"T_59ad4012_1928_11eb_bb17_0242ac1c0002row4_col1\" class=\"data row4 col1\" >5</td>\n",
              "                        <td id=\"T_59ad4012_1928_11eb_bb17_0242ac1c0002row4_col2\" class=\"data row4 col2\" >1</td>\n",
              "                        <td id=\"T_59ad4012_1928_11eb_bb17_0242ac1c0002row4_col3\" class=\"data row4 col3\" >0</td>\n",
              "                        <td id=\"T_59ad4012_1928_11eb_bb17_0242ac1c0002row4_col4\" class=\"data row4 col4\" >0</td>\n",
              "                        <td id=\"T_59ad4012_1928_11eb_bb17_0242ac1c0002row4_col5\" class=\"data row4 col5\" >0</td>\n",
              "                        <td id=\"T_59ad4012_1928_11eb_bb17_0242ac1c0002row4_col6\" class=\"data row4 col6\" >0</td>\n",
              "                        <td id=\"T_59ad4012_1928_11eb_bb17_0242ac1c0002row4_col7\" class=\"data row4 col7\" >0</td>\n",
              "                        <td id=\"T_59ad4012_1928_11eb_bb17_0242ac1c0002row4_col8\" class=\"data row4 col8\" >0</td>\n",
              "                        <td id=\"T_59ad4012_1928_11eb_bb17_0242ac1c0002row4_col9\" class=\"data row4 col9\" >27</td>\n",
              "            </tr>\n",
              "            <tr>\n",
              "                                        <th id=\"T_59ad4012_1928_11eb_bb17_0242ac1c0002level2_row5\" class=\"row_heading level2 row5\" >S</th>\n",
              "                        <td id=\"T_59ad4012_1928_11eb_bb17_0242ac1c0002row5_col0\" class=\"data row5 col0\" >53</td>\n",
              "                        <td id=\"T_59ad4012_1928_11eb_bb17_0242ac1c0002row5_col1\" class=\"data row5 col1\" >41</td>\n",
              "                        <td id=\"T_59ad4012_1928_11eb_bb17_0242ac1c0002row5_col2\" class=\"data row5 col2\" >29</td>\n",
              "                        <td id=\"T_59ad4012_1928_11eb_bb17_0242ac1c0002row5_col3\" class=\"data row5 col3\" >10</td>\n",
              "                        <td id=\"T_59ad4012_1928_11eb_bb17_0242ac1c0002row5_col4\" class=\"data row5 col4\" >1</td>\n",
              "                        <td id=\"T_59ad4012_1928_11eb_bb17_0242ac1c0002row5_col5\" class=\"data row5 col5\" >3</td>\n",
              "                        <td id=\"T_59ad4012_1928_11eb_bb17_0242ac1c0002row5_col6\" class=\"data row5 col6\" >3</td>\n",
              "                        <td id=\"T_59ad4012_1928_11eb_bb17_0242ac1c0002row5_col7\" class=\"data row5 col7\" >0</td>\n",
              "                        <td id=\"T_59ad4012_1928_11eb_bb17_0242ac1c0002row5_col8\" class=\"data row5 col8\" >0</td>\n",
              "                        <td id=\"T_59ad4012_1928_11eb_bb17_0242ac1c0002row5_col9\" class=\"data row5 col9\" >140</td>\n",
              "            </tr>\n",
              "            <tr>\n",
              "                        <th id=\"T_59ad4012_1928_11eb_bb17_0242ac1c0002level0_row6\" class=\"row_heading level0 row6\" rowspan=6>male</th>\n",
              "                        <th id=\"T_59ad4012_1928_11eb_bb17_0242ac1c0002level1_row6\" class=\"row_heading level1 row6\" rowspan=3>0</th>\n",
              "                        <th id=\"T_59ad4012_1928_11eb_bb17_0242ac1c0002level2_row6\" class=\"row_heading level2 row6\" >C</th>\n",
              "                        <td id=\"T_59ad4012_1928_11eb_bb17_0242ac1c0002row6_col0\" class=\"data row6 col0\" >46</td>\n",
              "                        <td id=\"T_59ad4012_1928_11eb_bb17_0242ac1c0002row6_col1\" class=\"data row6 col1\" >12</td>\n",
              "                        <td id=\"T_59ad4012_1928_11eb_bb17_0242ac1c0002row6_col2\" class=\"data row6 col2\" >7</td>\n",
              "                        <td id=\"T_59ad4012_1928_11eb_bb17_0242ac1c0002row6_col3\" class=\"data row6 col3\" >1</td>\n",
              "                        <td id=\"T_59ad4012_1928_11eb_bb17_0242ac1c0002row6_col4\" class=\"data row6 col4\" >0</td>\n",
              "                        <td id=\"T_59ad4012_1928_11eb_bb17_0242ac1c0002row6_col5\" class=\"data row6 col5\" >0</td>\n",
              "                        <td id=\"T_59ad4012_1928_11eb_bb17_0242ac1c0002row6_col6\" class=\"data row6 col6\" >0</td>\n",
              "                        <td id=\"T_59ad4012_1928_11eb_bb17_0242ac1c0002row6_col7\" class=\"data row6 col7\" >0</td>\n",
              "                        <td id=\"T_59ad4012_1928_11eb_bb17_0242ac1c0002row6_col8\" class=\"data row6 col8\" >0</td>\n",
              "                        <td id=\"T_59ad4012_1928_11eb_bb17_0242ac1c0002row6_col9\" class=\"data row6 col9\" >66</td>\n",
              "            </tr>\n",
              "            <tr>\n",
              "                                        <th id=\"T_59ad4012_1928_11eb_bb17_0242ac1c0002level2_row7\" class=\"row_heading level2 row7\" >Q</th>\n",
              "                        <td id=\"T_59ad4012_1928_11eb_bb17_0242ac1c0002row7_col0\" class=\"data row7 col0\" >28</td>\n",
              "                        <td id=\"T_59ad4012_1928_11eb_bb17_0242ac1c0002row7_col1\" class=\"data row7 col1\" >4</td>\n",
              "                        <td id=\"T_59ad4012_1928_11eb_bb17_0242ac1c0002row7_col2\" class=\"data row7 col2\" >2</td>\n",
              "                        <td id=\"T_59ad4012_1928_11eb_bb17_0242ac1c0002row7_col3\" class=\"data row7 col3\" >0</td>\n",
              "                        <td id=\"T_59ad4012_1928_11eb_bb17_0242ac1c0002row7_col4\" class=\"data row7 col4\" >0</td>\n",
              "                        <td id=\"T_59ad4012_1928_11eb_bb17_0242ac1c0002row7_col5\" class=\"data row7 col5\" >4</td>\n",
              "                        <td id=\"T_59ad4012_1928_11eb_bb17_0242ac1c0002row7_col6\" class=\"data row7 col6\" >0</td>\n",
              "                        <td id=\"T_59ad4012_1928_11eb_bb17_0242ac1c0002row7_col7\" class=\"data row7 col7\" >0</td>\n",
              "                        <td id=\"T_59ad4012_1928_11eb_bb17_0242ac1c0002row7_col8\" class=\"data row7 col8\" >0</td>\n",
              "                        <td id=\"T_59ad4012_1928_11eb_bb17_0242ac1c0002row7_col9\" class=\"data row7 col9\" >38</td>\n",
              "            </tr>\n",
              "            <tr>\n",
              "                                        <th id=\"T_59ad4012_1928_11eb_bb17_0242ac1c0002level2_row8\" class=\"row_heading level2 row8\" >S</th>\n",
              "                        <td id=\"T_59ad4012_1928_11eb_bb17_0242ac1c0002row8_col0\" class=\"data row8 col0\" >273</td>\n",
              "                        <td id=\"T_59ad4012_1928_11eb_bb17_0242ac1c0002row8_col1\" class=\"data row8 col1\" >40</td>\n",
              "                        <td id=\"T_59ad4012_1928_11eb_bb17_0242ac1c0002row8_col2\" class=\"data row8 col2\" >23</td>\n",
              "                        <td id=\"T_59ad4012_1928_11eb_bb17_0242ac1c0002row8_col3\" class=\"data row8 col3\" >4</td>\n",
              "                        <td id=\"T_59ad4012_1928_11eb_bb17_0242ac1c0002row8_col4\" class=\"data row8 col4\" >3</td>\n",
              "                        <td id=\"T_59ad4012_1928_11eb_bb17_0242ac1c0002row8_col5\" class=\"data row8 col5\" >10</td>\n",
              "                        <td id=\"T_59ad4012_1928_11eb_bb17_0242ac1c0002row8_col6\" class=\"data row8 col6\" >3</td>\n",
              "                        <td id=\"T_59ad4012_1928_11eb_bb17_0242ac1c0002row8_col7\" class=\"data row8 col7\" >4</td>\n",
              "                        <td id=\"T_59ad4012_1928_11eb_bb17_0242ac1c0002row8_col8\" class=\"data row8 col8\" >4</td>\n",
              "                        <td id=\"T_59ad4012_1928_11eb_bb17_0242ac1c0002row8_col9\" class=\"data row8 col9\" >364</td>\n",
              "            </tr>\n",
              "            <tr>\n",
              "                                <th id=\"T_59ad4012_1928_11eb_bb17_0242ac1c0002level1_row9\" class=\"row_heading level1 row9\" rowspan=3>1</th>\n",
              "                        <th id=\"T_59ad4012_1928_11eb_bb17_0242ac1c0002level2_row9\" class=\"row_heading level2 row9\" >C</th>\n",
              "                        <td id=\"T_59ad4012_1928_11eb_bb17_0242ac1c0002row9_col0\" class=\"data row9 col0\" >14</td>\n",
              "                        <td id=\"T_59ad4012_1928_11eb_bb17_0242ac1c0002row9_col1\" class=\"data row9 col1\" >9</td>\n",
              "                        <td id=\"T_59ad4012_1928_11eb_bb17_0242ac1c0002row9_col2\" class=\"data row9 col2\" >6</td>\n",
              "                        <td id=\"T_59ad4012_1928_11eb_bb17_0242ac1c0002row9_col3\" class=\"data row9 col3\" >0</td>\n",
              "                        <td id=\"T_59ad4012_1928_11eb_bb17_0242ac1c0002row9_col4\" class=\"data row9 col4\" >0</td>\n",
              "                        <td id=\"T_59ad4012_1928_11eb_bb17_0242ac1c0002row9_col5\" class=\"data row9 col5\" >0</td>\n",
              "                        <td id=\"T_59ad4012_1928_11eb_bb17_0242ac1c0002row9_col6\" class=\"data row9 col6\" >0</td>\n",
              "                        <td id=\"T_59ad4012_1928_11eb_bb17_0242ac1c0002row9_col7\" class=\"data row9 col7\" >0</td>\n",
              "                        <td id=\"T_59ad4012_1928_11eb_bb17_0242ac1c0002row9_col8\" class=\"data row9 col8\" >0</td>\n",
              "                        <td id=\"T_59ad4012_1928_11eb_bb17_0242ac1c0002row9_col9\" class=\"data row9 col9\" >29</td>\n",
              "            </tr>\n",
              "            <tr>\n",
              "                                        <th id=\"T_59ad4012_1928_11eb_bb17_0242ac1c0002level2_row10\" class=\"row_heading level2 row10\" >Q</th>\n",
              "                        <td id=\"T_59ad4012_1928_11eb_bb17_0242ac1c0002row10_col0\" class=\"data row10 col0\" >2</td>\n",
              "                        <td id=\"T_59ad4012_1928_11eb_bb17_0242ac1c0002row10_col1\" class=\"data row10 col1\" >0</td>\n",
              "                        <td id=\"T_59ad4012_1928_11eb_bb17_0242ac1c0002row10_col2\" class=\"data row10 col2\" >1</td>\n",
              "                        <td id=\"T_59ad4012_1928_11eb_bb17_0242ac1c0002row10_col3\" class=\"data row10 col3\" >0</td>\n",
              "                        <td id=\"T_59ad4012_1928_11eb_bb17_0242ac1c0002row10_col4\" class=\"data row10 col4\" >0</td>\n",
              "                        <td id=\"T_59ad4012_1928_11eb_bb17_0242ac1c0002row10_col5\" class=\"data row10 col5\" >0</td>\n",
              "                        <td id=\"T_59ad4012_1928_11eb_bb17_0242ac1c0002row10_col6\" class=\"data row10 col6\" >0</td>\n",
              "                        <td id=\"T_59ad4012_1928_11eb_bb17_0242ac1c0002row10_col7\" class=\"data row10 col7\" >0</td>\n",
              "                        <td id=\"T_59ad4012_1928_11eb_bb17_0242ac1c0002row10_col8\" class=\"data row10 col8\" >0</td>\n",
              "                        <td id=\"T_59ad4012_1928_11eb_bb17_0242ac1c0002row10_col9\" class=\"data row10 col9\" >3</td>\n",
              "            </tr>\n",
              "            <tr>\n",
              "                                        <th id=\"T_59ad4012_1928_11eb_bb17_0242ac1c0002level2_row11\" class=\"row_heading level2 row11\" >S</th>\n",
              "                        <td id=\"T_59ad4012_1928_11eb_bb17_0242ac1c0002row11_col0\" class=\"data row11 col0\" >48</td>\n",
              "                        <td id=\"T_59ad4012_1928_11eb_bb17_0242ac1c0002row11_col1\" class=\"data row11 col1\" >9</td>\n",
              "                        <td id=\"T_59ad4012_1928_11eb_bb17_0242ac1c0002row11_col2\" class=\"data row11 col2\" >14</td>\n",
              "                        <td id=\"T_59ad4012_1928_11eb_bb17_0242ac1c0002row11_col3\" class=\"data row11 col3\" >5</td>\n",
              "                        <td id=\"T_59ad4012_1928_11eb_bb17_0242ac1c0002row11_col4\" class=\"data row11 col4\" >0</td>\n",
              "                        <td id=\"T_59ad4012_1928_11eb_bb17_0242ac1c0002row11_col5\" class=\"data row11 col5\" >0</td>\n",
              "                        <td id=\"T_59ad4012_1928_11eb_bb17_0242ac1c0002row11_col6\" class=\"data row11 col6\" >1</td>\n",
              "                        <td id=\"T_59ad4012_1928_11eb_bb17_0242ac1c0002row11_col7\" class=\"data row11 col7\" >0</td>\n",
              "                        <td id=\"T_59ad4012_1928_11eb_bb17_0242ac1c0002row11_col8\" class=\"data row11 col8\" >0</td>\n",
              "                        <td id=\"T_59ad4012_1928_11eb_bb17_0242ac1c0002row11_col9\" class=\"data row11 col9\" >77</td>\n",
              "            </tr>\n",
              "            <tr>\n",
              "                        <th id=\"T_59ad4012_1928_11eb_bb17_0242ac1c0002level0_row12\" class=\"row_heading level0 row12\" >All</th>\n",
              "                        <th id=\"T_59ad4012_1928_11eb_bb17_0242ac1c0002level1_row12\" class=\"row_heading level1 row12\" ></th>\n",
              "                        <th id=\"T_59ad4012_1928_11eb_bb17_0242ac1c0002level2_row12\" class=\"row_heading level2 row12\" ></th>\n",
              "                        <td id=\"T_59ad4012_1928_11eb_bb17_0242ac1c0002row12_col0\" class=\"data row12 col0\" >535</td>\n",
              "                        <td id=\"T_59ad4012_1928_11eb_bb17_0242ac1c0002row12_col1\" class=\"data row12 col1\" >161</td>\n",
              "                        <td id=\"T_59ad4012_1928_11eb_bb17_0242ac1c0002row12_col2\" class=\"data row12 col2\" >102</td>\n",
              "                        <td id=\"T_59ad4012_1928_11eb_bb17_0242ac1c0002row12_col3\" class=\"data row12 col3\" >29</td>\n",
              "                        <td id=\"T_59ad4012_1928_11eb_bb17_0242ac1c0002row12_col4\" class=\"data row12 col4\" >15</td>\n",
              "                        <td id=\"T_59ad4012_1928_11eb_bb17_0242ac1c0002row12_col5\" class=\"data row12 col5\" >22</td>\n",
              "                        <td id=\"T_59ad4012_1928_11eb_bb17_0242ac1c0002row12_col6\" class=\"data row12 col6\" >12</td>\n",
              "                        <td id=\"T_59ad4012_1928_11eb_bb17_0242ac1c0002row12_col7\" class=\"data row12 col7\" >6</td>\n",
              "                        <td id=\"T_59ad4012_1928_11eb_bb17_0242ac1c0002row12_col8\" class=\"data row12 col8\" >7</td>\n",
              "                        <td id=\"T_59ad4012_1928_11eb_bb17_0242ac1c0002row12_col9\" class=\"data row12 col9\" >889</td>\n",
              "            </tr>\n",
              "    </tbody></table>"
            ],
            "text/plain": [
              "<pandas.io.formats.style.Styler at 0x7f3790f22710>"
            ]
          },
          "metadata": {
            "tags": []
          },
          "execution_count": 70
        }
      ]
    },
    {
      "cell_type": "markdown",
      "metadata": {
        "id": "BQxNVgUaKyKa"
      },
      "source": [
        "## 5.나이와 요금간 상관관계"
      ]
    },
    {
      "cell_type": "markdown",
      "metadata": {
        "id": "X5b-cBMQTSzY"
      },
      "source": [
        " - 요금을 적게낸 사람일 수록 죽었다.\n",
        " - 어릴수록 더 많이 죽었다."
      ]
    },
    {
      "cell_type": "code",
      "metadata": {
        "colab": {
          "base_uri": "https://localhost:8080/",
          "height": 401
        },
        "id": "WRnRkUh5S8SH",
        "outputId": "2c5736ab-0cb6-4388-d17e-29032bd02fb2"
      },
      "source": [
        "low_fare = train[train['Fare'] < 100]\n",
        "\n",
        "\n",
        "sns.lmplot(data = low_fare, x='Age', y='Fare', hue='Survived')"
      ],
      "execution_count": null,
      "outputs": [
        {
          "output_type": "execute_result",
          "data": {
            "text/plain": [
              "<seaborn.axisgrid.FacetGrid at 0x7f37906ef208>"
            ]
          },
          "metadata": {
            "tags": []
          },
          "execution_count": 112
        },
        {
          "output_type": "display_data",
          "data": {
            "image/png": "[encoded data removed]",
            "text/plain": [
              "<Figure size 421.55x360 with 1 Axes>"
            ]
          },
          "metadata": {
            "tags": []
          }
        }
      ]
    },
    {
      "cell_type": "markdown",
      "metadata": {
        "id": "DFMnw46-nggb"
      },
      "source": [
        "## ======데이터 전처리=========\n"
      ]
    },
    {
      "cell_type": "code",
      "metadata": {
        "colab": {
          "base_uri": "https://localhost:8080/",
          "height": 409
        },
        "id": "liu0vkkJn0Bv",
        "outputId": "59d098d2-38f9-4f8e-b9b5-0fac3e2b12b1"
      },
      "source": [
        "titanic_df.info()"
      ],
      "execution_count": null,
      "outputs": [
        {
          "output_type": "stream",
          "text": [
            "<class 'pandas.core.frame.DataFrame'>\n",
            "RangeIndex: 891 entries, 0 to 890\n",
            "Data columns (total 14 columns):\n",
            " #   Column       Non-Null Count  Dtype  \n",
            "---  ------       --------------  -----  \n",
            " 0   PassengerId  891 non-null    int64  \n",
            " 1   Survived     891 non-null    int64  \n",
            " 2   Pclass       891 non-null    int64  \n",
            " 3   Name         891 non-null    object \n",
            " 4   Sex          891 non-null    object \n",
            " 5   Age          714 non-null    float64\n",
            " 6   SibSp        891 non-null    int64  \n",
            " 7   Parch        891 non-null    int64  \n",
            " 8   Ticket       891 non-null    object \n",
            " 9   Fare         891 non-null    float64\n",
            " 10  Cabin        204 non-null    object \n",
            " 11  Embarked     889 non-null    object \n",
            " 12  Last_name    891 non-null    object \n",
            " 13  Family_num   891 non-null    int64  \n",
            "dtypes: float64(2), int64(6), object(6)\n",
            "memory usage: 97.6+ KB\n"
          ],
          "name": "stdout"
        }
      ]
    },
    {
      "cell_type": "markdown",
      "metadata": {
        "id": "4YmkpRnun6HX"
      },
      "source": [
        "total data : 891개\n",
        "\n",
        "\n",
        "features 사용 컬럼 : Survived, Pclass, Sex(파이프라인) , Age(결측치, 구간정렬), SibSp,Patch, Fare(파이프라인) , Embarked(파이프라인) , Last_name(파이프라인),Familly_nun\n",
        "\n",
        "\n",
        "파이프 라인 필요한 컬럼 : Sex, Age, Fare, Embarked, Last_name, Failmy_num\n"
      ]
    },
    {
      "cell_type": "markdown",
      "metadata": {
        "id": "JY24M7tggGri"
      },
      "source": [
        "## 1.데이터 불러오기"
      ]
    },
    {
      "cell_type": "code",
      "metadata": {
        "id": "bzwBwgtIpymd"
      },
      "source": [
        "import pandas as pd\n",
        "import numpy as np\n",
        "import matplotlib.pyplot as plt\n",
        "import seaborn as sns"
      ],
      "execution_count": null,
      "outputs": []
    },
    {
      "cell_type": "code",
      "metadata": {
        "colab": {
          "base_uri": "https://localhost:8080/"
        },
        "id": "fmsJn7NexpHw",
        "outputId": "cdef7b3a-6035-45f7-8a85-8688548c63b5"
      },
      "source": [
        "train = pd.read_csv('/content/sample_data/train.csv', sep=',')\n",
        "test = pd.read_csv('/content/sample_data/test.csv', sep=',')\n",
        "print(train.shape)\n",
        "print(test.shape)"
      ],
      "execution_count": null,
      "outputs": [
        {
          "output_type": "stream",
          "text": [
            "(891, 12)\n",
            "(418, 11)\n"
          ],
          "name": "stdout"
        }
      ]
    },
    {
      "cell_type": "markdown",
      "metadata": {
        "id": "cmj7Z6SygLj9"
      },
      "source": [
        "## 2.Test data에 결측치 처리"
      ]
    },
    {
      "cell_type": "code",
      "metadata": {
        "colab": {
          "base_uri": "https://localhost:8080/",
          "height": 49
        },
        "id": "JEiFH8A1zX6K",
        "outputId": "512e3517-0575-4def-fb37-ea3070f95c5e"
      },
      "source": [
        "#test에 Fare 결측치가 존재하여 결측치 처리함\n",
        "test.loc[test[\"Fare\"].isnull(), \"Fare\"] = 0\n",
        "test[test[\"Fare\"].isnull()]"
      ],
      "execution_count": null,
      "outputs": [
        {
          "output_type": "execute_result",
          "data": {
            "text/html": [
              "<div>\n",
              "<style scoped>\n",
              "    .dataframe tbody tr th:only-of-type {\n",
              "        vertical-align: middle;\n",
              "    }\n",
              "\n",
              "    .dataframe tbody tr th {\n",
              "        vertical-align: top;\n",
              "    }\n",
              "\n",
              "    .dataframe thead th {\n",
              "        text-align: right;\n",
              "    }\n",
              "</style>\n",
              "<table border=\"1\" class=\"dataframe\">\n",
              "  <thead>\n",
              "    <tr style=\"text-align: right;\">\n",
              "      <th></th>\n",
              "      <th>PassengerId</th>\n",
              "      <th>Pclass</th>\n",
              "      <th>Name</th>\n",
              "      <th>Sex</th>\n",
              "      <th>Age</th>\n",
              "      <th>SibSp</th>\n",
              "      <th>Parch</th>\n",
              "      <th>Ticket</th>\n",
              "      <th>Fare</th>\n",
              "      <th>Cabin</th>\n",
              "      <th>Embarked</th>\n",
              "    </tr>\n",
              "  </thead>\n",
              "  <tbody>\n",
              "  </tbody>\n",
              "</table>\n",
              "</div>"
            ],
            "text/plain": [
              "Empty DataFrame\n",
              "Columns: [PassengerId, Pclass, Name, Sex, Age, SibSp, Parch, Ticket, Fare, Cabin, Embarked]\n",
              "Index: []"
            ]
          },
          "metadata": {
            "tags": []
          },
          "execution_count": 7
        }
      ]
    },
    {
      "cell_type": "markdown",
      "metadata": {
        "id": "Qe6_uTujgX81"
      },
      "source": [
        "## 3.Embarked(범주형)변수 전처리 "
      ]
    },
    {
      "cell_type": "code",
      "metadata": {
        "colab": {
          "base_uri": "https://localhost:8080/",
          "height": 240
        },
        "id": "UxfMh_QJz0XZ",
        "outputId": "6226a682-51e8-49f4-a1a1-e09bc30e91d0"
      },
      "source": [
        "\n",
        "train[\"Embarked_C\"] = train[\"Embarked\"] == \"C\"\n",
        "train[\"Embarked_S\"] = train[\"Embarked\"] == \"S\"\n",
        "train[\"Embarked_Q\"] = train[\"Embarked\"] == \"Q\"\n",
        "\n",
        "print(train.shape)\n",
        "train[[\"Embarked\", \"Embarked_C\", \"Embarked_S\", \"Embarked_Q\"]].head()\n",
        "\n",
        "test[\"Embarked_C\"] = test[\"Embarked\"] == \"C\"\n",
        "test[\"Embarked_S\"] = test[\"Embarked\"] == \"S\"\n",
        "test[\"Embarked_Q\"] = test[\"Embarked\"] == \"Q\"\n",
        "\n",
        "print(test.shape)\n",
        "test[[\"Embarked\", \"Embarked_C\", \"Embarked_S\", \"Embarked_Q\"]].head()"
      ],
      "execution_count": null,
      "outputs": [
        {
          "output_type": "stream",
          "text": [
            "(891, 15)\n",
            "(418, 14)\n"
          ],
          "name": "stdout"
        },
        {
          "output_type": "execute_result",
          "data": {
            "text/html": [
              "<div>\n",
              "<style scoped>\n",
              "    .dataframe tbody tr th:only-of-type {\n",
              "        vertical-align: middle;\n",
              "    }\n",
              "\n",
              "    .dataframe tbody tr th {\n",
              "        vertical-align: top;\n",
              "    }\n",
              "\n",
              "    .dataframe thead th {\n",
              "        text-align: right;\n",
              "    }\n",
              "</style>\n",
              "<table border=\"1\" class=\"dataframe\">\n",
              "  <thead>\n",
              "    <tr style=\"text-align: right;\">\n",
              "      <th></th>\n",
              "      <th>Embarked</th>\n",
              "      <th>Embarked_C</th>\n",
              "      <th>Embarked_S</th>\n",
              "      <th>Embarked_Q</th>\n",
              "    </tr>\n",
              "  </thead>\n",
              "  <tbody>\n",
              "    <tr>\n",
              "      <th>0</th>\n",
              "      <td>Q</td>\n",
              "      <td>False</td>\n",
              "      <td>False</td>\n",
              "      <td>True</td>\n",
              "    </tr>\n",
              "    <tr>\n",
              "      <th>1</th>\n",
              "      <td>S</td>\n",
              "      <td>False</td>\n",
              "      <td>True</td>\n",
              "      <td>False</td>\n",
              "    </tr>\n",
              "    <tr>\n",
              "      <th>2</th>\n",
              "      <td>Q</td>\n",
              "      <td>False</td>\n",
              "      <td>False</td>\n",
              "      <td>True</td>\n",
              "    </tr>\n",
              "    <tr>\n",
              "      <th>3</th>\n",
              "      <td>S</td>\n",
              "      <td>False</td>\n",
              "      <td>True</td>\n",
              "      <td>False</td>\n",
              "    </tr>\n",
              "    <tr>\n",
              "      <th>4</th>\n",
              "      <td>S</td>\n",
              "      <td>False</td>\n",
              "      <td>True</td>\n",
              "      <td>False</td>\n",
              "    </tr>\n",
              "  </tbody>\n",
              "</table>\n",
              "</div>"
            ],
            "text/plain": [
              "  Embarked  Embarked_C  Embarked_S  Embarked_Q\n",
              "0        Q       False       False        True\n",
              "1        S       False        True       False\n",
              "2        Q       False       False        True\n",
              "3        S       False        True       False\n",
              "4        S       False        True       False"
            ]
          },
          "metadata": {
            "tags": []
          },
          "execution_count": 8
        }
      ]
    },
    {
      "cell_type": "markdown",
      "metadata": {
        "id": "ebET5YpMgkJ8"
      },
      "source": [
        "## 4.가족 규모 전처리"
      ]
    },
    {
      "cell_type": "code",
      "metadata": {
        "id": "r2oGEBia0HoF"
      },
      "source": [
        "# 가족 사이즈 추가 (train + test)\n",
        "train[\"FamilySize\"] = train[\"SibSp\"] + train[\"Parch\"] + 1 # 가족 추가\n",
        "test[\"FamilySize\"] = test[\"SibSp\"] + test[\"Parch\"] + 1 # 가족 추가\n",
        "\n",
        "\n",
        "test[\"HighFare\"] = (test[\"Fare\"] >= 30)"
      ],
      "execution_count": null,
      "outputs": []
    },
    {
      "cell_type": "markdown",
      "metadata": {
        "id": "UmrAgPBdgwyP"
      },
      "source": [
        "## 5.티켓요금 구간별 전처리"
      ]
    },
    {
      "cell_type": "code",
      "metadata": {
        "id": "RX9JnOADgtoE"
      },
      "source": [
        "# 티켓 요금 범주설정 (train + test)\n",
        "low_fare = train[\"Fare\"] < 15\n",
        "medium_fare = (train[\"Fare\"] >= 15) & (train[\"Fare\"] < 30 )\n",
        "high_fare = train[\"Fare\"] >= 30\n",
        "low_fare = test[\"Fare\"] < 15\n",
        "medium_fare = (test[\"Fare\"] >= 15) & (test[\"Fare\"] < 30 )\n",
        "high_fare = test[\"Fare\"] >= 30\n",
        "\n",
        "\n",
        "# 요금에 대한 구간별 원핫 인코딩\n",
        "train[\"LowFare\"] = train[\"Fare\"] < 15\n",
        "train[\"MediumFare\"] = (train[\"Fare\"] >= 15) & (train[\"Fare\"] < 30)\n",
        "train[\"HighFare\"] = (train[\"Fare\"] >= 30)\n",
        "\n",
        "test[\"LowFare\"] = test[\"Fare\"] < 15\n",
        "test[\"MediumFare\"] = (test[\"Fare\"] >= 15) & (test[\"Fare\"] < 30)"
      ],
      "execution_count": null,
      "outputs": []
    },
    {
      "cell_type": "markdown",
      "metadata": {
        "id": "7Oilc2ADg8Tk"
      },
      "source": [
        "## 6.성인남자(범주형) 전처리"
      ]
    },
    {
      "cell_type": "code",
      "metadata": {
        "colab": {
          "base_uri": "https://localhost:8080/",
          "height": 448
        },
        "id": "pJ42hEJpu4cP",
        "outputId": "50b8d41b-9d05-44fb-bd1e-2ef8818cc1b1"
      },
      "source": [
        "Last_name_list = [Last_name.split(',')[1].split('.')[0].replace(' ', '') for Last_name in train['Name']] \n",
        "# Title_list에 name을 split해서 title을 받아온 후 , 저장\n",
        "\n",
        "train['Last_name']=Last_name_list\n",
        "\n",
        "train.loc[(train['Sex']=='female') & ((train['Last_name']!='Mrs') & (train['Last_name']!='Miss')), 'Last_name'] = 'Mrs'\n",
        "train.loc[(train['Sex']=='male') & ((train['Last_name']!='Mr') & (train['Last_name']!='Master')), 'Last_name'] = 'Mr'\n",
        "# 호칭이 Mr, Master, Mrs, Miss 가 아닌 것 중에 성별을 확인하여 female이면 Mrs, male이면 Mr로 변경 \n",
        "\n",
        "Last_name_list = [Last_name.split(',')[1].split('.')[0].replace(' ', '') for Last_name in test['Name']] \n",
        "test['Last_name']=Last_name_list\n",
        "\n",
        "test.loc[(test['Sex']=='female') & ((test['Last_name']!='Mrs') & (test['Last_name']!='Miss')), 'Last_name'] = 'Mrs'\n",
        "test.loc[(test['Sex']=='male') & ((test['Last_name']!='Mr') & (test['Last_name']!='Master')), 'Last_name'] = 'Mr'\n",
        "\n",
        "\n",
        "train.tail()\n"
      ],
      "execution_count": null,
      "outputs": [
        {
          "output_type": "execute_result",
          "data": {
            "text/html": [
              "<div>\n",
              "<style scoped>\n",
              "    .dataframe tbody tr th:only-of-type {\n",
              "        vertical-align: middle;\n",
              "    }\n",
              "\n",
              "    .dataframe tbody tr th {\n",
              "        vertical-align: top;\n",
              "    }\n",
              "\n",
              "    .dataframe thead th {\n",
              "        text-align: right;\n",
              "    }\n",
              "</style>\n",
              "<table border=\"1\" class=\"dataframe\">\n",
              "  <thead>\n",
              "    <tr style=\"text-align: right;\">\n",
              "      <th></th>\n",
              "      <th>PassengerId</th>\n",
              "      <th>Survived</th>\n",
              "      <th>Pclass</th>\n",
              "      <th>Name</th>\n",
              "      <th>Sex</th>\n",
              "      <th>Age</th>\n",
              "      <th>SibSp</th>\n",
              "      <th>Parch</th>\n",
              "      <th>Ticket</th>\n",
              "      <th>Fare</th>\n",
              "      <th>Cabin</th>\n",
              "      <th>Embarked</th>\n",
              "      <th>Embarked_C</th>\n",
              "      <th>Embarked_S</th>\n",
              "      <th>Embarked_Q</th>\n",
              "      <th>FamilySize</th>\n",
              "      <th>LowFare</th>\n",
              "      <th>MediumFare</th>\n",
              "      <th>HighFare</th>\n",
              "      <th>Last_name</th>\n",
              "    </tr>\n",
              "  </thead>\n",
              "  <tbody>\n",
              "    <tr>\n",
              "      <th>886</th>\n",
              "      <td>887</td>\n",
              "      <td>0</td>\n",
              "      <td>2</td>\n",
              "      <td>Montvila, Rev. Juozas</td>\n",
              "      <td>male</td>\n",
              "      <td>27.0</td>\n",
              "      <td>0</td>\n",
              "      <td>0</td>\n",
              "      <td>211536</td>\n",
              "      <td>13.00</td>\n",
              "      <td>NaN</td>\n",
              "      <td>S</td>\n",
              "      <td>False</td>\n",
              "      <td>True</td>\n",
              "      <td>False</td>\n",
              "      <td>1</td>\n",
              "      <td>True</td>\n",
              "      <td>False</td>\n",
              "      <td>False</td>\n",
              "      <td>Mr</td>\n",
              "    </tr>\n",
              "    <tr>\n",
              "      <th>887</th>\n",
              "      <td>888</td>\n",
              "      <td>1</td>\n",
              "      <td>1</td>\n",
              "      <td>Graham, Miss. Margaret Edith</td>\n",
              "      <td>female</td>\n",
              "      <td>19.0</td>\n",
              "      <td>0</td>\n",
              "      <td>0</td>\n",
              "      <td>112053</td>\n",
              "      <td>30.00</td>\n",
              "      <td>B42</td>\n",
              "      <td>S</td>\n",
              "      <td>False</td>\n",
              "      <td>True</td>\n",
              "      <td>False</td>\n",
              "      <td>1</td>\n",
              "      <td>False</td>\n",
              "      <td>False</td>\n",
              "      <td>True</td>\n",
              "      <td>Miss</td>\n",
              "    </tr>\n",
              "    <tr>\n",
              "      <th>888</th>\n",
              "      <td>889</td>\n",
              "      <td>0</td>\n",
              "      <td>3</td>\n",
              "      <td>Johnston, Miss. Catherine Helen \"Carrie\"</td>\n",
              "      <td>female</td>\n",
              "      <td>NaN</td>\n",
              "      <td>1</td>\n",
              "      <td>2</td>\n",
              "      <td>W./C. 6607</td>\n",
              "      <td>23.45</td>\n",
              "      <td>NaN</td>\n",
              "      <td>S</td>\n",
              "      <td>False</td>\n",
              "      <td>True</td>\n",
              "      <td>False</td>\n",
              "      <td>4</td>\n",
              "      <td>False</td>\n",
              "      <td>True</td>\n",
              "      <td>False</td>\n",
              "      <td>Miss</td>\n",
              "    </tr>\n",
              "    <tr>\n",
              "      <th>889</th>\n",
              "      <td>890</td>\n",
              "      <td>1</td>\n",
              "      <td>1</td>\n",
              "      <td>Behr, Mr. Karl Howell</td>\n",
              "      <td>male</td>\n",
              "      <td>26.0</td>\n",
              "      <td>0</td>\n",
              "      <td>0</td>\n",
              "      <td>111369</td>\n",
              "      <td>30.00</td>\n",
              "      <td>C148</td>\n",
              "      <td>C</td>\n",
              "      <td>True</td>\n",
              "      <td>False</td>\n",
              "      <td>False</td>\n",
              "      <td>1</td>\n",
              "      <td>False</td>\n",
              "      <td>False</td>\n",
              "      <td>True</td>\n",
              "      <td>Mr</td>\n",
              "    </tr>\n",
              "    <tr>\n",
              "      <th>890</th>\n",
              "      <td>891</td>\n",
              "      <td>0</td>\n",
              "      <td>3</td>\n",
              "      <td>Dooley, Mr. Patrick</td>\n",
              "      <td>male</td>\n",
              "      <td>32.0</td>\n",
              "      <td>0</td>\n",
              "      <td>0</td>\n",
              "      <td>370376</td>\n",
              "      <td>7.75</td>\n",
              "      <td>NaN</td>\n",
              "      <td>Q</td>\n",
              "      <td>False</td>\n",
              "      <td>False</td>\n",
              "      <td>True</td>\n",
              "      <td>1</td>\n",
              "      <td>True</td>\n",
              "      <td>False</td>\n",
              "      <td>False</td>\n",
              "      <td>Mr</td>\n",
              "    </tr>\n",
              "  </tbody>\n",
              "</table>\n",
              "</div>"
            ],
            "text/plain": [
              "     PassengerId  Survived  Pclass  ... MediumFare HighFare  Last_name\n",
              "886          887         0       2  ...      False    False         Mr\n",
              "887          888         1       1  ...      False     True       Miss\n",
              "888          889         0       3  ...       True    False       Miss\n",
              "889          890         1       1  ...      False     True         Mr\n",
              "890          891         0       3  ...      False    False         Mr\n",
              "\n",
              "[5 rows x 20 columns]"
            ]
          },
          "metadata": {
            "tags": []
          },
          "execution_count": 11
        }
      ]
    },
    {
      "cell_type": "code",
      "metadata": {
        "colab": {
          "base_uri": "https://localhost:8080/",
          "height": 280
        },
        "id": "Olf3TSxnxwZW",
        "outputId": "44e8b00e-09f2-44f6-afe7-3e18c04ed1d1"
      },
      "source": [
        "sns.barplot(x=\"Last_name\", y=\"Survived\", data = train, palette=\"vlag\")\n",
        "plt.show()"
      ],
      "execution_count": null,
      "outputs": [
        {
          "output_type": "display_data",
          "data": {
            "image/png": "[encoded data removed]",
            "text/plain": [
              "<Figure size 432x288 with 1 Axes>"
            ]
          },
          "metadata": {
            "tags": [],
            "needs_background": "light"
          }
        }
      ]
    },
    {
      "cell_type": "markdown",
      "metadata": {
        "id": "XSRR2yw4hPzL"
      },
      "source": [
        "## 7.Age Null 값 채우기 및 전처리"
      ]
    },
    {
      "cell_type": "code",
      "metadata": {
        "colab": {
          "base_uri": "https://localhost:8080/"
        },
        "id": "UKY6hVA82t0f",
        "outputId": "1a454293-89ab-42b0-c6e3-0550f8fe1cfe"
      },
      "source": [
        "# Mr의 평균 나이(Nan값 제외)\n",
        "mr_age = train.loc[train['Last_name']=='Mr', 'Age']\n",
        "mr_avg = int(round(mr_age.mean() ,1))\n",
        "\n",
        "# Master의 평균 나이(Nan값 제외)\n",
        "master_age = train.loc[train['Last_name']=='Master', 'Age']\n",
        "master_avg = int(round(master_age.mean() ,1))\n",
        "\n",
        "# Mrs의 평균 나이(Nan값 제외)\n",
        "mrs_age = train.loc[train['Last_name']=='Mrs', 'Age']\n",
        "mrs_avg = int(round(mrs_age   .mean() ,1))\n",
        "\n",
        "# Miss의 평균 나이(Nan값 제외)\n",
        "miss_age = train.loc[train['Last_name']=='Miss', 'Age']\n",
        "miss_avg = int(round(miss_age.mean() ,1))\n",
        "        \n",
        "mr_avg, master_avg, mrs_avg, miss_avg\n",
        "\n",
        "\n"
      ],
      "execution_count": null,
      "outputs": [
        {
          "output_type": "execute_result",
          "data": {
            "text/plain": [
              "(33, 4, 35, 21)"
            ]
          },
          "metadata": {
            "tags": []
          },
          "execution_count": 13
        }
      ]
    },
    {
      "cell_type": "code",
      "metadata": {
        "colab": {
          "base_uri": "https://localhost:8080/",
          "height": 240
        },
        "id": "NZ-I2xRb7Rxa",
        "outputId": "027c8c42-c16a-4e01-854f-d113ec6de84d"
      },
      "source": [
        "#Last_name 처리하기\n",
        "train[\"Name_Mr\"] = train[\"Last_name\"] == \"Mr\"\n",
        "train[\"Name_Master\"] = train[\"Last_name\"] == \"Master\"\n",
        "train[\"Name_Mrs\"] = train[\"Last_name\"] == \"Mrs\"\n",
        "train[\"Name_Miss\"] = train[\"Last_name\"] == \"Miss\"\n",
        "\n",
        "print(train.shape)\n",
        "train[[\"Last_name\", \"Name_Mr\", \"Name_Master\", \"Name_Mrs\",\"Name_Miss\"]].head()\n",
        "\n",
        "\n",
        "test[\"Name_Mr\"] = test[\"Last_name\"] == \"Mr\"\n",
        "test[\"Name_Master\"] = test[\"Last_name\"] == \"Master\"\n",
        "test[\"Name_Mrs\"] = test[\"Last_name\"] == \"Mrs\"\n",
        "test[\"Name_Miss\"] = test[\"Last_name\"] == \"Miss\"\n",
        "\n",
        "print(test.shape)\n",
        "test[[\"Last_name\", \"Name_Mr\", \"Name_Master\", \"Name_Mrs\",\"Name_Miss\"]].head()"
      ],
      "execution_count": null,
      "outputs": [
        {
          "output_type": "stream",
          "text": [
            "(891, 24)\n",
            "(418, 23)\n"
          ],
          "name": "stdout"
        },
        {
          "output_type": "execute_result",
          "data": {
            "text/html": [
              "<div>\n",
              "<style scoped>\n",
              "    .dataframe tbody tr th:only-of-type {\n",
              "        vertical-align: middle;\n",
              "    }\n",
              "\n",
              "    .dataframe tbody tr th {\n",
              "        vertical-align: top;\n",
              "    }\n",
              "\n",
              "    .dataframe thead th {\n",
              "        text-align: right;\n",
              "    }\n",
              "</style>\n",
              "<table border=\"1\" class=\"dataframe\">\n",
              "  <thead>\n",
              "    <tr style=\"text-align: right;\">\n",
              "      <th></th>\n",
              "      <th>Last_name</th>\n",
              "      <th>Name_Mr</th>\n",
              "      <th>Name_Master</th>\n",
              "      <th>Name_Mrs</th>\n",
              "      <th>Name_Miss</th>\n",
              "    </tr>\n",
              "  </thead>\n",
              "  <tbody>\n",
              "    <tr>\n",
              "      <th>0</th>\n",
              "      <td>Mr</td>\n",
              "      <td>True</td>\n",
              "      <td>False</td>\n",
              "      <td>False</td>\n",
              "      <td>False</td>\n",
              "    </tr>\n",
              "    <tr>\n",
              "      <th>1</th>\n",
              "      <td>Mrs</td>\n",
              "      <td>False</td>\n",
              "      <td>False</td>\n",
              "      <td>True</td>\n",
              "      <td>False</td>\n",
              "    </tr>\n",
              "    <tr>\n",
              "      <th>2</th>\n",
              "      <td>Mr</td>\n",
              "      <td>True</td>\n",
              "      <td>False</td>\n",
              "      <td>False</td>\n",
              "      <td>False</td>\n",
              "    </tr>\n",
              "    <tr>\n",
              "      <th>3</th>\n",
              "      <td>Mr</td>\n",
              "      <td>True</td>\n",
              "      <td>False</td>\n",
              "      <td>False</td>\n",
              "      <td>False</td>\n",
              "    </tr>\n",
              "    <tr>\n",
              "      <th>4</th>\n",
              "      <td>Mrs</td>\n",
              "      <td>False</td>\n",
              "      <td>False</td>\n",
              "      <td>True</td>\n",
              "      <td>False</td>\n",
              "    </tr>\n",
              "  </tbody>\n",
              "</table>\n",
              "</div>"
            ],
            "text/plain": [
              "  Last_name  Name_Mr  Name_Master  Name_Mrs  Name_Miss\n",
              "0        Mr     True        False     False      False\n",
              "1       Mrs    False        False      True      False\n",
              "2        Mr     True        False     False      False\n",
              "3        Mr     True        False     False      False\n",
              "4       Mrs    False        False      True      False"
            ]
          },
          "metadata": {
            "tags": []
          },
          "execution_count": 14
        }
      ]
    },
    {
      "cell_type": "code",
      "metadata": {
        "colab": {
          "base_uri": "https://localhost:8080/",
          "height": 500
        },
        "id": "OYbl3Uzny-Dk",
        "outputId": "e6eca2c9-f7ca-4622-9504-490b46becbc6"
      },
      "source": [
        "# 나이 결측값 처리\n",
        "new_age = []\n",
        "\n",
        "for age, Last_name in zip(train['Age'], train['Last_name']) :\n",
        "  if np.isnan(age) == True :\n",
        "    if Last_name  == 'Mr' :\n",
        "      new_age.append(mr_avg)\n",
        "    elif Last_name == 'Master' : \n",
        "      new_age.append(master_avg)\n",
        "    elif Last_name == 'Mrs' :\n",
        "      new_age.append(mrs_avg)\n",
        "    elif Last_name == 'Miss' :\n",
        "      new_age.append(miss_avg)\n",
        "  else :\n",
        "    new_age.append(age)\n",
        "\n",
        "train['New_age'] = new_age\n",
        "train.head()"
      ],
      "execution_count": null,
      "outputs": [
        {
          "output_type": "execute_result",
          "data": {
            "text/html": [
              "<div>\n",
              "<style scoped>\n",
              "    .dataframe tbody tr th:only-of-type {\n",
              "        vertical-align: middle;\n",
              "    }\n",
              "\n",
              "    .dataframe tbody tr th {\n",
              "        vertical-align: top;\n",
              "    }\n",
              "\n",
              "    .dataframe thead th {\n",
              "        text-align: right;\n",
              "    }\n",
              "</style>\n",
              "<table border=\"1\" class=\"dataframe\">\n",
              "  <thead>\n",
              "    <tr style=\"text-align: right;\">\n",
              "      <th></th>\n",
              "      <th>PassengerId</th>\n",
              "      <th>Survived</th>\n",
              "      <th>Pclass</th>\n",
              "      <th>Name</th>\n",
              "      <th>Sex</th>\n",
              "      <th>Age</th>\n",
              "      <th>SibSp</th>\n",
              "      <th>Parch</th>\n",
              "      <th>Ticket</th>\n",
              "      <th>Fare</th>\n",
              "      <th>Cabin</th>\n",
              "      <th>Embarked</th>\n",
              "      <th>Embarked_C</th>\n",
              "      <th>Embarked_S</th>\n",
              "      <th>Embarked_Q</th>\n",
              "      <th>FamilySize</th>\n",
              "      <th>LowFare</th>\n",
              "      <th>MediumFare</th>\n",
              "      <th>HighFare</th>\n",
              "      <th>Last_name</th>\n",
              "      <th>Name_Mr</th>\n",
              "      <th>Name_Master</th>\n",
              "      <th>Name_Mrs</th>\n",
              "      <th>Name_Miss</th>\n",
              "      <th>New_age</th>\n",
              "    </tr>\n",
              "  </thead>\n",
              "  <tbody>\n",
              "    <tr>\n",
              "      <th>0</th>\n",
              "      <td>1</td>\n",
              "      <td>0</td>\n",
              "      <td>3</td>\n",
              "      <td>Braund, Mr. Owen Harris</td>\n",
              "      <td>male</td>\n",
              "      <td>22.0</td>\n",
              "      <td>1</td>\n",
              "      <td>0</td>\n",
              "      <td>A/5 21171</td>\n",
              "      <td>7.2500</td>\n",
              "      <td>NaN</td>\n",
              "      <td>S</td>\n",
              "      <td>False</td>\n",
              "      <td>True</td>\n",
              "      <td>False</td>\n",
              "      <td>2</td>\n",
              "      <td>True</td>\n",
              "      <td>False</td>\n",
              "      <td>False</td>\n",
              "      <td>Mr</td>\n",
              "      <td>True</td>\n",
              "      <td>False</td>\n",
              "      <td>False</td>\n",
              "      <td>False</td>\n",
              "      <td>22.0</td>\n",
              "    </tr>\n",
              "    <tr>\n",
              "      <th>1</th>\n",
              "      <td>2</td>\n",
              "      <td>1</td>\n",
              "      <td>1</td>\n",
              "      <td>Cumings, Mrs. John Bradley (Florence Briggs Th...</td>\n",
              "      <td>female</td>\n",
              "      <td>38.0</td>\n",
              "      <td>1</td>\n",
              "      <td>0</td>\n",
              "      <td>PC 17599</td>\n",
              "      <td>71.2833</td>\n",
              "      <td>C85</td>\n",
              "      <td>C</td>\n",
              "      <td>True</td>\n",
              "      <td>False</td>\n",
              "      <td>False</td>\n",
              "      <td>2</td>\n",
              "      <td>False</td>\n",
              "      <td>False</td>\n",
              "      <td>True</td>\n",
              "      <td>Mrs</td>\n",
              "      <td>False</td>\n",
              "      <td>False</td>\n",
              "      <td>True</td>\n",
              "      <td>False</td>\n",
              "      <td>38.0</td>\n",
              "    </tr>\n",
              "    <tr>\n",
              "      <th>2</th>\n",
              "      <td>3</td>\n",
              "      <td>1</td>\n",
              "      <td>3</td>\n",
              "      <td>Heikkinen, Miss. Laina</td>\n",
              "      <td>female</td>\n",
              "      <td>26.0</td>\n",
              "      <td>0</td>\n",
              "      <td>0</td>\n",
              "      <td>STON/O2. 3101282</td>\n",
              "      <td>7.9250</td>\n",
              "      <td>NaN</td>\n",
              "      <td>S</td>\n",
              "      <td>False</td>\n",
              "      <td>True</td>\n",
              "      <td>False</td>\n",
              "      <td>1</td>\n",
              "      <td>True</td>\n",
              "      <td>False</td>\n",
              "      <td>False</td>\n",
              "      <td>Miss</td>\n",
              "      <td>False</td>\n",
              "      <td>False</td>\n",
              "      <td>False</td>\n",
              "      <td>True</td>\n",
              "      <td>26.0</td>\n",
              "    </tr>\n",
              "    <tr>\n",
              "      <th>3</th>\n",
              "      <td>4</td>\n",
              "      <td>1</td>\n",
              "      <td>1</td>\n",
              "      <td>Futrelle, Mrs. Jacques Heath (Lily May Peel)</td>\n",
              "      <td>female</td>\n",
              "      <td>35.0</td>\n",
              "      <td>1</td>\n",
              "      <td>0</td>\n",
              "      <td>113803</td>\n",
              "      <td>53.1000</td>\n",
              "      <td>C123</td>\n",
              "      <td>S</td>\n",
              "      <td>False</td>\n",
              "      <td>True</td>\n",
              "      <td>False</td>\n",
              "      <td>2</td>\n",
              "      <td>False</td>\n",
              "      <td>False</td>\n",
              "      <td>True</td>\n",
              "      <td>Mrs</td>\n",
              "      <td>False</td>\n",
              "      <td>False</td>\n",
              "      <td>True</td>\n",
              "      <td>False</td>\n",
              "      <td>35.0</td>\n",
              "    </tr>\n",
              "    <tr>\n",
              "      <th>4</th>\n",
              "      <td>5</td>\n",
              "      <td>0</td>\n",
              "      <td>3</td>\n",
              "      <td>Allen, Mr. William Henry</td>\n",
              "      <td>male</td>\n",
              "      <td>35.0</td>\n",
              "      <td>0</td>\n",
              "      <td>0</td>\n",
              "      <td>373450</td>\n",
              "      <td>8.0500</td>\n",
              "      <td>NaN</td>\n",
              "      <td>S</td>\n",
              "      <td>False</td>\n",
              "      <td>True</td>\n",
              "      <td>False</td>\n",
              "      <td>1</td>\n",
              "      <td>True</td>\n",
              "      <td>False</td>\n",
              "      <td>False</td>\n",
              "      <td>Mr</td>\n",
              "      <td>True</td>\n",
              "      <td>False</td>\n",
              "      <td>False</td>\n",
              "      <td>False</td>\n",
              "      <td>35.0</td>\n",
              "    </tr>\n",
              "  </tbody>\n",
              "</table>\n",
              "</div>"
            ],
            "text/plain": [
              "   PassengerId  Survived  Pclass  ... Name_Mrs Name_Miss  New_age\n",
              "0            1         0       3  ...    False     False     22.0\n",
              "1            2         1       1  ...     True     False     38.0\n",
              "2            3         1       3  ...    False      True     26.0\n",
              "3            4         1       1  ...     True     False     35.0\n",
              "4            5         0       3  ...    False     False     35.0\n",
              "\n",
              "[5 rows x 25 columns]"
            ]
          },
          "metadata": {
            "tags": []
          },
          "execution_count": 15
        }
      ]
    },
    {
      "cell_type": "code",
      "metadata": {
        "colab": {
          "base_uri": "https://localhost:8080/",
          "height": 448
        },
        "id": "uBmpTi801qEl",
        "outputId": "ba0679be-b94b-4b66-afa3-b9f8c7b7b5ee"
      },
      "source": [
        "new_age = []\n",
        "for age, Last_name in zip(test['Age'], test['Last_name']) :\n",
        "  if np.isnan(age) == True :\n",
        "    if Last_name  == 'Mr' :\n",
        "      new_age.append(mr_avg)\n",
        "    elif Last_name == 'Master' : \n",
        "      new_age.append(master_avg)\n",
        "    elif Last_name == 'Mrs' :\n",
        "      new_age.append(mrs_avg)\n",
        "    elif Last_name == 'Miss' :\n",
        "      new_age.append(miss_avg)\n",
        "  else :\n",
        "    new_age.append(age)\n",
        "\n",
        "test['New_age'] = new_age\n",
        "test.head()"
      ],
      "execution_count": null,
      "outputs": [
        {
          "output_type": "execute_result",
          "data": {
            "text/html": [
              "<div>\n",
              "<style scoped>\n",
              "    .dataframe tbody tr th:only-of-type {\n",
              "        vertical-align: middle;\n",
              "    }\n",
              "\n",
              "    .dataframe tbody tr th {\n",
              "        vertical-align: top;\n",
              "    }\n",
              "\n",
              "    .dataframe thead th {\n",
              "        text-align: right;\n",
              "    }\n",
              "</style>\n",
              "<table border=\"1\" class=\"dataframe\">\n",
              "  <thead>\n",
              "    <tr style=\"text-align: right;\">\n",
              "      <th></th>\n",
              "      <th>PassengerId</th>\n",
              "      <th>Pclass</th>\n",
              "      <th>Name</th>\n",
              "      <th>Sex</th>\n",
              "      <th>Age</th>\n",
              "      <th>SibSp</th>\n",
              "      <th>Parch</th>\n",
              "      <th>Ticket</th>\n",
              "      <th>Fare</th>\n",
              "      <th>Cabin</th>\n",
              "      <th>Embarked</th>\n",
              "      <th>Embarked_C</th>\n",
              "      <th>Embarked_S</th>\n",
              "      <th>Embarked_Q</th>\n",
              "      <th>FamilySize</th>\n",
              "      <th>HighFare</th>\n",
              "      <th>LowFare</th>\n",
              "      <th>MediumFare</th>\n",
              "      <th>Last_name</th>\n",
              "      <th>Name_Mr</th>\n",
              "      <th>Name_Master</th>\n",
              "      <th>Name_Mrs</th>\n",
              "      <th>Name_Miss</th>\n",
              "      <th>New_age</th>\n",
              "    </tr>\n",
              "  </thead>\n",
              "  <tbody>\n",
              "    <tr>\n",
              "      <th>0</th>\n",
              "      <td>892</td>\n",
              "      <td>3</td>\n",
              "      <td>Kelly, Mr. James</td>\n",
              "      <td>male</td>\n",
              "      <td>34.5</td>\n",
              "      <td>0</td>\n",
              "      <td>0</td>\n",
              "      <td>330911</td>\n",
              "      <td>7.8292</td>\n",
              "      <td>NaN</td>\n",
              "      <td>Q</td>\n",
              "      <td>False</td>\n",
              "      <td>False</td>\n",
              "      <td>True</td>\n",
              "      <td>1</td>\n",
              "      <td>False</td>\n",
              "      <td>True</td>\n",
              "      <td>False</td>\n",
              "      <td>Mr</td>\n",
              "      <td>True</td>\n",
              "      <td>False</td>\n",
              "      <td>False</td>\n",
              "      <td>False</td>\n",
              "      <td>34.5</td>\n",
              "    </tr>\n",
              "    <tr>\n",
              "      <th>1</th>\n",
              "      <td>893</td>\n",
              "      <td>3</td>\n",
              "      <td>Wilkes, Mrs. James (Ellen Needs)</td>\n",
              "      <td>female</td>\n",
              "      <td>47.0</td>\n",
              "      <td>1</td>\n",
              "      <td>0</td>\n",
              "      <td>363272</td>\n",
              "      <td>7.0000</td>\n",
              "      <td>NaN</td>\n",
              "      <td>S</td>\n",
              "      <td>False</td>\n",
              "      <td>True</td>\n",
              "      <td>False</td>\n",
              "      <td>2</td>\n",
              "      <td>False</td>\n",
              "      <td>True</td>\n",
              "      <td>False</td>\n",
              "      <td>Mrs</td>\n",
              "      <td>False</td>\n",
              "      <td>False</td>\n",
              "      <td>True</td>\n",
              "      <td>False</td>\n",
              "      <td>47.0</td>\n",
              "    </tr>\n",
              "    <tr>\n",
              "      <th>2</th>\n",
              "      <td>894</td>\n",
              "      <td>2</td>\n",
              "      <td>Myles, Mr. Thomas Francis</td>\n",
              "      <td>male</td>\n",
              "      <td>62.0</td>\n",
              "      <td>0</td>\n",
              "      <td>0</td>\n",
              "      <td>240276</td>\n",
              "      <td>9.6875</td>\n",
              "      <td>NaN</td>\n",
              "      <td>Q</td>\n",
              "      <td>False</td>\n",
              "      <td>False</td>\n",
              "      <td>True</td>\n",
              "      <td>1</td>\n",
              "      <td>False</td>\n",
              "      <td>True</td>\n",
              "      <td>False</td>\n",
              "      <td>Mr</td>\n",
              "      <td>True</td>\n",
              "      <td>False</td>\n",
              "      <td>False</td>\n",
              "      <td>False</td>\n",
              "      <td>62.0</td>\n",
              "    </tr>\n",
              "    <tr>\n",
              "      <th>3</th>\n",
              "      <td>895</td>\n",
              "      <td>3</td>\n",
              "      <td>Wirz, Mr. Albert</td>\n",
              "      <td>male</td>\n",
              "      <td>27.0</td>\n",
              "      <td>0</td>\n",
              "      <td>0</td>\n",
              "      <td>315154</td>\n",
              "      <td>8.6625</td>\n",
              "      <td>NaN</td>\n",
              "      <td>S</td>\n",
              "      <td>False</td>\n",
              "      <td>True</td>\n",
              "      <td>False</td>\n",
              "      <td>1</td>\n",
              "      <td>False</td>\n",
              "      <td>True</td>\n",
              "      <td>False</td>\n",
              "      <td>Mr</td>\n",
              "      <td>True</td>\n",
              "      <td>False</td>\n",
              "      <td>False</td>\n",
              "      <td>False</td>\n",
              "      <td>27.0</td>\n",
              "    </tr>\n",
              "    <tr>\n",
              "      <th>4</th>\n",
              "      <td>896</td>\n",
              "      <td>3</td>\n",
              "      <td>Hirvonen, Mrs. Alexander (Helga E Lindqvist)</td>\n",
              "      <td>female</td>\n",
              "      <td>22.0</td>\n",
              "      <td>1</td>\n",
              "      <td>1</td>\n",
              "      <td>3101298</td>\n",
              "      <td>12.2875</td>\n",
              "      <td>NaN</td>\n",
              "      <td>S</td>\n",
              "      <td>False</td>\n",
              "      <td>True</td>\n",
              "      <td>False</td>\n",
              "      <td>3</td>\n",
              "      <td>False</td>\n",
              "      <td>True</td>\n",
              "      <td>False</td>\n",
              "      <td>Mrs</td>\n",
              "      <td>False</td>\n",
              "      <td>False</td>\n",
              "      <td>True</td>\n",
              "      <td>False</td>\n",
              "      <td>22.0</td>\n",
              "    </tr>\n",
              "  </tbody>\n",
              "</table>\n",
              "</div>"
            ],
            "text/plain": [
              "   PassengerId  Pclass  ... Name_Miss New_age\n",
              "0          892       3  ...     False    34.5\n",
              "1          893       3  ...     False    47.0\n",
              "2          894       2  ...     False    62.0\n",
              "3          895       3  ...     False    27.0\n",
              "4          896       3  ...     False    22.0\n",
              "\n",
              "[5 rows x 24 columns]"
            ]
          },
          "metadata": {
            "tags": []
          },
          "execution_count": 16
        }
      ]
    },
    {
      "cell_type": "markdown",
      "metadata": {
        "id": "cJT0ayJAhbZK"
      },
      "source": [
        "## 8.성별 문자열 변수 숫자형으로 변경"
      ]
    },
    {
      "cell_type": "code",
      "metadata": {
        "id": "Kyyij-W71-DC"
      },
      "source": [
        "# sex 컬럼 문자열에서 숫자형으로 바꿔줌\n",
        "train.loc[train[\"Sex\"] == \"male\", \"Sex\"] = 0\n",
        "train.loc[train[\"Sex\"] == \"female\", \"Sex\"] = 1\n",
        "\n",
        "test.loc[test[\"Sex\"] == \"male\", \"Sex\"] = 0\n",
        "test.loc[test[\"Sex\"] == \"female\", \"Sex\"] = 1\n"
      ],
      "execution_count": null,
      "outputs": []
    },
    {
      "cell_type": "code",
      "metadata": {
        "id": "vSdlECSwI4bZ"
      },
      "source": [
        "train['Sex'] = pd.to_numeric(train['Sex'])\n",
        "test['Sex'] = pd.to_numeric(test['Sex'])"
      ],
      "execution_count": null,
      "outputs": []
    },
    {
      "cell_type": "code",
      "metadata": {
        "colab": {
          "base_uri": "https://localhost:8080/"
        },
        "id": "1n32jZWcJvhy",
        "outputId": "67f29f7c-2c94-431a-dd13-c120ea27a880"
      },
      "source": [
        "train.info()\n",
        "test.info()"
      ],
      "execution_count": null,
      "outputs": [
        {
          "output_type": "stream",
          "text": [
            "<class 'pandas.core.frame.DataFrame'>\n",
            "RangeIndex: 891 entries, 0 to 890\n",
            "Data columns (total 25 columns):\n",
            " #   Column       Non-Null Count  Dtype  \n",
            "---  ------       --------------  -----  \n",
            " 0   PassengerId  891 non-null    int64  \n",
            " 1   Survived     891 non-null    int64  \n",
            " 2   Pclass       891 non-null    int64  \n",
            " 3   Name         891 non-null    object \n",
            " 4   Sex          891 non-null    int64  \n",
            " 5   Age          714 non-null    float64\n",
            " 6   SibSp        891 non-null    int64  \n",
            " 7   Parch        891 non-null    int64  \n",
            " 8   Ticket       891 non-null    object \n",
            " 9   Fare         891 non-null    float64\n",
            " 10  Cabin        204 non-null    object \n",
            " 11  Embarked     889 non-null    object \n",
            " 12  Embarked_C   891 non-null    bool   \n",
            " 13  Embarked_S   891 non-null    bool   \n",
            " 14  Embarked_Q   891 non-null    bool   \n",
            " 15  FamilySize   891 non-null    int64  \n",
            " 16  LowFare      891 non-null    bool   \n",
            " 17  MediumFare   891 non-null    bool   \n",
            " 18  HighFare     891 non-null    bool   \n",
            " 19  Last_name    891 non-null    object \n",
            " 20  Name_Mr      891 non-null    bool   \n",
            " 21  Name_Master  891 non-null    bool   \n",
            " 22  Name_Mrs     891 non-null    bool   \n",
            " 23  Name_Miss    891 non-null    bool   \n",
            " 24  New_age      891 non-null    float64\n",
            "dtypes: bool(10), float64(3), int64(7), object(5)\n",
            "memory usage: 113.2+ KB\n",
            "<class 'pandas.core.frame.DataFrame'>\n",
            "RangeIndex: 418 entries, 0 to 417\n",
            "Data columns (total 24 columns):\n",
            " #   Column       Non-Null Count  Dtype  \n",
            "---  ------       --------------  -----  \n",
            " 0   PassengerId  418 non-null    int64  \n",
            " 1   Pclass       418 non-null    int64  \n",
            " 2   Name         418 non-null    object \n",
            " 3   Sex          418 non-null    int64  \n",
            " 4   Age          332 non-null    float64\n",
            " 5   SibSp        418 non-null    int64  \n",
            " 6   Parch        418 non-null    int64  \n",
            " 7   Ticket       418 non-null    object \n",
            " 8   Fare         418 non-null    float64\n",
            " 9   Cabin        91 non-null     object \n",
            " 10  Embarked     418 non-null    object \n",
            " 11  Embarked_C   418 non-null    bool   \n",
            " 12  Embarked_S   418 non-null    bool   \n",
            " 13  Embarked_Q   418 non-null    bool   \n",
            " 14  FamilySize   418 non-null    int64  \n",
            " 15  HighFare     418 non-null    bool   \n",
            " 16  LowFare      418 non-null    bool   \n",
            " 17  MediumFare   418 non-null    bool   \n",
            " 18  Last_name    418 non-null    object \n",
            " 19  Name_Mr      418 non-null    bool   \n",
            " 20  Name_Master  418 non-null    bool   \n",
            " 21  Name_Mrs     418 non-null    bool   \n",
            " 22  Name_Miss    418 non-null    bool   \n",
            " 23  New_age      418 non-null    float64\n",
            "dtypes: bool(10), float64(3), int64(6), object(5)\n",
            "memory usage: 49.9+ KB\n"
          ],
          "name": "stdout"
        }
      ]
    },
    {
      "cell_type": "markdown",
      "metadata": {
        "id": "DtIl4XVBk0eS"
      },
      "source": [
        "## 9.파이프 라인 (XX)"
      ]
    },
    {
      "cell_type": "code",
      "metadata": {
        "colab": {
          "base_uri": "https://localhost:8080/",
          "height": 248
        },
        "id": "cE5oqlRSk2rh",
        "outputId": "3eb9ee49-ee22-459a-ed87-9183a1f5c660"
      },
      "source": [
        "from sklearn.pipeline import Pipeline\n",
        "from sklearn.preprocessing import StandardScaler\n",
        "from sklearn.impute import SimpleImputer\n",
        "\n",
        "imputer = SimpleImputer(strategy=\"median\")\n",
        "\n",
        "num_pipeline = Pipeline([\n",
        "                         ('imputer', SimpleImputer(strategy=\"median\")), # 중간값\n",
        "                         (\"std_scaler\", StandardScaler()) # 표준편차\n",
        "])\n",
        "\n",
        "train_tr = num_pipeline.fit_transform(train)\n",
        "\n",
        "\n",
        "from sklearn.compose import ColumnTransformer #각열마다 다른 변환기를 적용할 수 있음\n",
        "\n",
        "num_attribs = list(train)\n",
        "cat_attribs = ['Embarked','Last_name']\n",
        "\n",
        "full_pipeline = ColumnTransformer([\n",
        "                                   (\"num\", num_pipeline, num_attribs),    # 파이프 라인\n",
        "                                   (\"cat\", OneHotEncoder(), cat_attribs), # 원핫 인코딩\n",
        "])\n",
        "\n",
        "train_prepared = full_pipeline.fit_transform(train)\n",
        "train_prepared[:3]"
      ],
      "execution_count": null,
      "outputs": [
        {
          "output_type": "error",
          "ename": "NameError",
          "evalue": "ignored",
          "traceback": [
            "\u001b[0;31m---------------------------------------------------------------------------\u001b[0m",
            "\u001b[0;31mNameError\u001b[0m                                 Traceback (most recent call last)",
            "\u001b[0;32m<ipython-input-2-291831e1672b>\u001b[0m in \u001b[0;36m<module>\u001b[0;34m()\u001b[0m\n\u001b[1;32m     10\u001b[0m ])\n\u001b[1;32m     11\u001b[0m \u001b[0;34m\u001b[0m\u001b[0m\n\u001b[0;32m---> 12\u001b[0;31m \u001b[0mtrain_tr\u001b[0m \u001b[0;34m=\u001b[0m \u001b[0mnum_pipeline\u001b[0m\u001b[0;34m.\u001b[0m\u001b[0mfit_transform\u001b[0m\u001b[0;34m(\u001b[0m\u001b[0mtrain\u001b[0m\u001b[0;34m)\u001b[0m\u001b[0;34m\u001b[0m\u001b[0;34m\u001b[0m\u001b[0m\n\u001b[0m\u001b[1;32m     13\u001b[0m \u001b[0;34m\u001b[0m\u001b[0m\n\u001b[1;32m     14\u001b[0m \u001b[0;34m\u001b[0m\u001b[0m\n",
            "\u001b[0;31mNameError\u001b[0m: name 'train' is not defined"
          ]
        }
      ]
    },
    {
      "cell_type": "markdown",
      "metadata": {
        "id": "CQH8iBVAhhn8"
      },
      "source": [
        "## ========training========"
      ]
    },
    {
      "cell_type": "markdown",
      "metadata": {
        "id": "7LNeviXhhpgd"
      },
      "source": [
        "## 1.채택된 변수 설정"
      ]
    },
    {
      "cell_type": "code",
      "metadata": {
        "colab": {
          "base_uri": "https://localhost:8080/"
        },
        "id": "BKwLmJ57Jwl8",
        "outputId": "d0573130-39ee-413f-d0d0-cdfe6d8ddd62"
      },
      "source": [
        "# feature에 사용할 컬럼만 저장 \n",
        "features = [\"Pclass\", \"Sex\", \"Fare\", \n",
        "\"Embarked_C\", \"Embarked_S\", \"Embarked_Q\", \n",
        "\"LowFare\", \"MediumFare\", \"HighFare\", \n",
        "\"FamilySize\",'SibSp','Parch',\n",
        "\"Name_Mr\", \"Name_Master\", \"Name_Mrs\",\"Name_Miss\"\n",
        "]\n",
        "\n",
        "features"
      ],
      "execution_count": null,
      "outputs": [
        {
          "output_type": "execute_result",
          "data": {
            "text/plain": [
              "['Pclass',\n",
              " 'Sex',\n",
              " 'Fare',\n",
              " 'Embarked_C',\n",
              " 'Embarked_S',\n",
              " 'Embarked_Q',\n",
              " 'LowFare',\n",
              " 'MediumFare',\n",
              " 'HighFare',\n",
              " 'FamilySize',\n",
              " 'SibSp',\n",
              " 'Parch',\n",
              " 'Name_Mr',\n",
              " 'Name_Master',\n",
              " 'Name_Mrs',\n",
              " 'Name_Miss']"
            ]
          },
          "metadata": {
            "tags": []
          },
          "execution_count": 20
        }
      ]
    },
    {
      "cell_type": "code",
      "metadata": {
        "colab": {
          "base_uri": "https://localhost:8080/",
          "height": 241
        },
        "id": "0sLV1JHQ2pdH",
        "outputId": "f859d0c7-20e5-48ce-ee0a-890c74cef3b9"
      },
      "source": [
        "#\n",
        "X_train = train[features]\n",
        "\n",
        "print(X_train.shape)\n",
        "X_train.head()"
      ],
      "execution_count": null,
      "outputs": [
        {
          "output_type": "stream",
          "text": [
            "(891, 16)\n"
          ],
          "name": "stdout"
        },
        {
          "output_type": "execute_result",
          "data": {
            "text/html": [
              "<div>\n",
              "<style scoped>\n",
              "    .dataframe tbody tr th:only-of-type {\n",
              "        vertical-align: middle;\n",
              "    }\n",
              "\n",
              "    .dataframe tbody tr th {\n",
              "        vertical-align: top;\n",
              "    }\n",
              "\n",
              "    .dataframe thead th {\n",
              "        text-align: right;\n",
              "    }\n",
              "</style>\n",
              "<table border=\"1\" class=\"dataframe\">\n",
              "  <thead>\n",
              "    <tr style=\"text-align: right;\">\n",
              "      <th></th>\n",
              "      <th>Pclass</th>\n",
              "      <th>Sex</th>\n",
              "      <th>Fare</th>\n",
              "      <th>Embarked_C</th>\n",
              "      <th>Embarked_S</th>\n",
              "      <th>Embarked_Q</th>\n",
              "      <th>LowFare</th>\n",
              "      <th>MediumFare</th>\n",
              "      <th>HighFare</th>\n",
              "      <th>FamilySize</th>\n",
              "      <th>SibSp</th>\n",
              "      <th>Parch</th>\n",
              "      <th>Name_Mr</th>\n",
              "      <th>Name_Master</th>\n",
              "      <th>Name_Mrs</th>\n",
              "      <th>Name_Miss</th>\n",
              "    </tr>\n",
              "  </thead>\n",
              "  <tbody>\n",
              "    <tr>\n",
              "      <th>0</th>\n",
              "      <td>3</td>\n",
              "      <td>0</td>\n",
              "      <td>7.2500</td>\n",
              "      <td>False</td>\n",
              "      <td>True</td>\n",
              "      <td>False</td>\n",
              "      <td>True</td>\n",
              "      <td>False</td>\n",
              "      <td>False</td>\n",
              "      <td>2</td>\n",
              "      <td>1</td>\n",
              "      <td>0</td>\n",
              "      <td>True</td>\n",
              "      <td>False</td>\n",
              "      <td>False</td>\n",
              "      <td>False</td>\n",
              "    </tr>\n",
              "    <tr>\n",
              "      <th>1</th>\n",
              "      <td>1</td>\n",
              "      <td>1</td>\n",
              "      <td>71.2833</td>\n",
              "      <td>True</td>\n",
              "      <td>False</td>\n",
              "      <td>False</td>\n",
              "      <td>False</td>\n",
              "      <td>False</td>\n",
              "      <td>True</td>\n",
              "      <td>2</td>\n",
              "      <td>1</td>\n",
              "      <td>0</td>\n",
              "      <td>False</td>\n",
              "      <td>False</td>\n",
              "      <td>True</td>\n",
              "      <td>False</td>\n",
              "    </tr>\n",
              "    <tr>\n",
              "      <th>2</th>\n",
              "      <td>3</td>\n",
              "      <td>1</td>\n",
              "      <td>7.9250</td>\n",
              "      <td>False</td>\n",
              "      <td>True</td>\n",
              "      <td>False</td>\n",
              "      <td>True</td>\n",
              "      <td>False</td>\n",
              "      <td>False</td>\n",
              "      <td>1</td>\n",
              "      <td>0</td>\n",
              "      <td>0</td>\n",
              "      <td>False</td>\n",
              "      <td>False</td>\n",
              "      <td>False</td>\n",
              "      <td>True</td>\n",
              "    </tr>\n",
              "    <tr>\n",
              "      <th>3</th>\n",
              "      <td>1</td>\n",
              "      <td>1</td>\n",
              "      <td>53.1000</td>\n",
              "      <td>False</td>\n",
              "      <td>True</td>\n",
              "      <td>False</td>\n",
              "      <td>False</td>\n",
              "      <td>False</td>\n",
              "      <td>True</td>\n",
              "      <td>2</td>\n",
              "      <td>1</td>\n",
              "      <td>0</td>\n",
              "      <td>False</td>\n",
              "      <td>False</td>\n",
              "      <td>True</td>\n",
              "      <td>False</td>\n",
              "    </tr>\n",
              "    <tr>\n",
              "      <th>4</th>\n",
              "      <td>3</td>\n",
              "      <td>0</td>\n",
              "      <td>8.0500</td>\n",
              "      <td>False</td>\n",
              "      <td>True</td>\n",
              "      <td>False</td>\n",
              "      <td>True</td>\n",
              "      <td>False</td>\n",
              "      <td>False</td>\n",
              "      <td>1</td>\n",
              "      <td>0</td>\n",
              "      <td>0</td>\n",
              "      <td>True</td>\n",
              "      <td>False</td>\n",
              "      <td>False</td>\n",
              "      <td>False</td>\n",
              "    </tr>\n",
              "  </tbody>\n",
              "</table>\n",
              "</div>"
            ],
            "text/plain": [
              "   Pclass  Sex     Fare  Embarked_C  ...  Name_Mr  Name_Master  Name_Mrs  Name_Miss\n",
              "0       3    0   7.2500       False  ...     True        False     False      False\n",
              "1       1    1  71.2833        True  ...    False        False      True      False\n",
              "2       3    1   7.9250       False  ...    False        False     False       True\n",
              "3       1    1  53.1000       False  ...    False        False      True      False\n",
              "4       3    0   8.0500       False  ...     True        False     False      False\n",
              "\n",
              "[5 rows x 16 columns]"
            ]
          },
          "metadata": {
            "tags": []
          },
          "execution_count": 21
        }
      ]
    },
    {
      "cell_type": "code",
      "metadata": {
        "colab": {
          "base_uri": "https://localhost:8080/",
          "height": 241
        },
        "id": "C1Xj9OML3Hbn",
        "outputId": "efe09583-6ad1-4431-bf7b-b766394c4d4f"
      },
      "source": [
        "X_test = test[features]\n",
        "\n",
        "print(X_test.shape)\n",
        "X_test.head()"
      ],
      "execution_count": null,
      "outputs": [
        {
          "output_type": "stream",
          "text": [
            "(418, 16)\n"
          ],
          "name": "stdout"
        },
        {
          "output_type": "execute_result",
          "data": {
            "text/html": [
              "<div>\n",
              "<style scoped>\n",
              "    .dataframe tbody tr th:only-of-type {\n",
              "        vertical-align: middle;\n",
              "    }\n",
              "\n",
              "    .dataframe tbody tr th {\n",
              "        vertical-align: top;\n",
              "    }\n",
              "\n",
              "    .dataframe thead th {\n",
              "        text-align: right;\n",
              "    }\n",
              "</style>\n",
              "<table border=\"1\" class=\"dataframe\">\n",
              "  <thead>\n",
              "    <tr style=\"text-align: right;\">\n",
              "      <th></th>\n",
              "      <th>Pclass</th>\n",
              "      <th>Sex</th>\n",
              "      <th>Fare</th>\n",
              "      <th>Embarked_C</th>\n",
              "      <th>Embarked_S</th>\n",
              "      <th>Embarked_Q</th>\n",
              "      <th>LowFare</th>\n",
              "      <th>MediumFare</th>\n",
              "      <th>HighFare</th>\n",
              "      <th>FamilySize</th>\n",
              "      <th>SibSp</th>\n",
              "      <th>Parch</th>\n",
              "      <th>Name_Mr</th>\n",
              "      <th>Name_Master</th>\n",
              "      <th>Name_Mrs</th>\n",
              "      <th>Name_Miss</th>\n",
              "    </tr>\n",
              "  </thead>\n",
              "  <tbody>\n",
              "    <tr>\n",
              "      <th>0</th>\n",
              "      <td>3</td>\n",
              "      <td>0</td>\n",
              "      <td>7.8292</td>\n",
              "      <td>False</td>\n",
              "      <td>False</td>\n",
              "      <td>True</td>\n",
              "      <td>True</td>\n",
              "      <td>False</td>\n",
              "      <td>False</td>\n",
              "      <td>1</td>\n",
              "      <td>0</td>\n",
              "      <td>0</td>\n",
              "      <td>True</td>\n",
              "      <td>False</td>\n",
              "      <td>False</td>\n",
              "      <td>False</td>\n",
              "    </tr>\n",
              "    <tr>\n",
              "      <th>1</th>\n",
              "      <td>3</td>\n",
              "      <td>1</td>\n",
              "      <td>7.0000</td>\n",
              "      <td>False</td>\n",
              "      <td>True</td>\n",
              "      <td>False</td>\n",
              "      <td>True</td>\n",
              "      <td>False</td>\n",
              "      <td>False</td>\n",
              "      <td>2</td>\n",
              "      <td>1</td>\n",
              "      <td>0</td>\n",
              "      <td>False</td>\n",
              "      <td>False</td>\n",
              "      <td>True</td>\n",
              "      <td>False</td>\n",
              "    </tr>\n",
              "    <tr>\n",
              "      <th>2</th>\n",
              "      <td>2</td>\n",
              "      <td>0</td>\n",
              "      <td>9.6875</td>\n",
              "      <td>False</td>\n",
              "      <td>False</td>\n",
              "      <td>True</td>\n",
              "      <td>True</td>\n",
              "      <td>False</td>\n",
              "      <td>False</td>\n",
              "      <td>1</td>\n",
              "      <td>0</td>\n",
              "      <td>0</td>\n",
              "      <td>True</td>\n",
              "      <td>False</td>\n",
              "      <td>False</td>\n",
              "      <td>False</td>\n",
              "    </tr>\n",
              "    <tr>\n",
              "      <th>3</th>\n",
              "      <td>3</td>\n",
              "      <td>0</td>\n",
              "      <td>8.6625</td>\n",
              "      <td>False</td>\n",
              "      <td>True</td>\n",
              "      <td>False</td>\n",
              "      <td>True</td>\n",
              "      <td>False</td>\n",
              "      <td>False</td>\n",
              "      <td>1</td>\n",
              "      <td>0</td>\n",
              "      <td>0</td>\n",
              "      <td>True</td>\n",
              "      <td>False</td>\n",
              "      <td>False</td>\n",
              "      <td>False</td>\n",
              "    </tr>\n",
              "    <tr>\n",
              "      <th>4</th>\n",
              "      <td>3</td>\n",
              "      <td>1</td>\n",
              "      <td>12.2875</td>\n",
              "      <td>False</td>\n",
              "      <td>True</td>\n",
              "      <td>False</td>\n",
              "      <td>True</td>\n",
              "      <td>False</td>\n",
              "      <td>False</td>\n",
              "      <td>3</td>\n",
              "      <td>1</td>\n",
              "      <td>1</td>\n",
              "      <td>False</td>\n",
              "      <td>False</td>\n",
              "      <td>True</td>\n",
              "      <td>False</td>\n",
              "    </tr>\n",
              "  </tbody>\n",
              "</table>\n",
              "</div>"
            ],
            "text/plain": [
              "   Pclass  Sex     Fare  Embarked_C  ...  Name_Mr  Name_Master  Name_Mrs  Name_Miss\n",
              "0       3    0   7.8292       False  ...     True        False     False      False\n",
              "1       3    1   7.0000       False  ...    False        False      True      False\n",
              "2       2    0   9.6875       False  ...     True        False     False      False\n",
              "3       3    0   8.6625       False  ...     True        False     False      False\n",
              "4       3    1  12.2875       False  ...    False        False      True      False\n",
              "\n",
              "[5 rows x 16 columns]"
            ]
          },
          "metadata": {
            "tags": []
          },
          "execution_count": 22
        }
      ]
    },
    {
      "cell_type": "code",
      "metadata": {
        "colab": {
          "base_uri": "https://localhost:8080/"
        },
        "id": "vYZhgFSC315M",
        "outputId": "750c26f0-a566-4627-da65-3d29a87a1f95"
      },
      "source": [
        "label_name = \"Survived\"\n",
        "\n",
        "# train dataframe의 Survived 컬럼를 가져옵니다.\n",
        "y_train = train[label_name]\n",
        "\n",
        "print(y_train.shape)\n",
        "y_train.head()"
      ],
      "execution_count": null,
      "outputs": [
        {
          "output_type": "stream",
          "text": [
            "(891,)\n"
          ],
          "name": "stdout"
        },
        {
          "output_type": "execute_result",
          "data": {
            "text/plain": [
              "0    0\n",
              "1    1\n",
              "2    1\n",
              "3    1\n",
              "4    0\n",
              "Name: Survived, dtype: int64"
            ]
          },
          "metadata": {
            "tags": []
          },
          "execution_count": 23
        }
      ]
    },
    {
      "cell_type": "code",
      "metadata": {
        "id": "kRVc-VVt4DmT"
      },
      "source": [
        "full_train_data = X_train.copy()\n",
        "full_train_label = y_train.copy()\n",
        "full_test_data   = X_test.copy()\n",
        "from sklearn.model_selection import train_test_split\n",
        "\n",
        "X_train, X_test, y_train, y_test = train_test_split(full_train_data, full_train_label, random_state=0)"
      ],
      "execution_count": null,
      "outputs": []
    },
    {
      "cell_type": "markdown",
      "metadata": {
        "id": "KTHPf_1Lh2qk"
      },
      "source": [
        "## 2.그리드 탐색 estimators & 변수 갯수 선택"
      ]
    },
    {
      "cell_type": "code",
      "metadata": {
        "colab": {
          "base_uri": "https://localhost:8080/"
        },
        "id": "Mj3S2SSL_hnS",
        "outputId": "dba8c69e-0082-4e0a-e542-2843197faab0"
      },
      "source": [
        "from sklearn.model_selection import GridSearchCV\n",
        "from sklearn.ensemble import RandomForestRegressor\n",
        "param_grid = [\n",
        "              {\"n_estimators\": [50, 100, 200, 300], \"max_features\":[8,10,16]}, #선택하는 특성의 갯수\n",
        "              {'bootstrap': [False], 'n_estimators': [100,150], 'max_features': [10,16]}\n",
        "\n",
        "]\n",
        "\n",
        "forest_reg = RandomForestRegressor() #테스트할 모델\n",
        "\n",
        "grid_search = GridSearchCV(forest_reg, #랜덤포레스트리그레서의 클래스 객체\n",
        "                           param_grid, # 설정한 하이퍼 파라미터들 \n",
        "                           cv=5, # 크로스 벨리데이션 횟수\n",
        "                           scoring=None,\n",
        "                           return_train_score=True)\n",
        "\n",
        "grid_search.fit(X_train,y_train)"
      ],
      "execution_count": null,
      "outputs": [
        {
          "output_type": "execute_result",
          "data": {
            "text/plain": [
              "GridSearchCV(cv=5, error_score=nan,\n",
              "             estimator=RandomForestRegressor(bootstrap=True, ccp_alpha=0.0,\n",
              "                                             criterion='mse', max_depth=None,\n",
              "                                             max_features='auto',\n",
              "                                             max_leaf_nodes=None,\n",
              "                                             max_samples=None,\n",
              "                                             min_impurity_decrease=0.0,\n",
              "                                             min_impurity_split=None,\n",
              "                                             min_samples_leaf=1,\n",
              "                                             min_samples_split=2,\n",
              "                                             min_weight_fraction_leaf=0.0,\n",
              "                                             n_estimators=100, n_jobs=None,\n",
              "                                             oob_score=False, random_state=None,\n",
              "                                             verbose=0, warm_start=False),\n",
              "             iid='deprecated', n_jobs=None,\n",
              "             param_grid=[{'max_features': [8, 10, 16],\n",
              "                          'n_estimators': [50, 100, 200, 300]},\n",
              "                         {'bootstrap': [False], 'max_features': [10, 16],\n",
              "                          'n_estimators': [100, 150]}],\n",
              "             pre_dispatch='2*n_jobs', refit=True, return_train_score=True,\n",
              "             scoring=None, verbose=0)"
            ]
          },
          "metadata": {
            "tags": []
          },
          "execution_count": 91
        }
      ]
    },
    {
      "cell_type": "code",
      "metadata": {
        "colab": {
          "base_uri": "https://localhost:8080/"
        },
        "id": "uslwMDMuH8YE",
        "outputId": "bdd22dd0-4848-4349-df95-fac7e2657766"
      },
      "source": [
        "grid_search.best_params_"
      ],
      "execution_count": null,
      "outputs": [
        {
          "output_type": "execute_result",
          "data": {
            "text/plain": [
              "{'max_features': 16, 'n_estimators': 200}"
            ]
          },
          "metadata": {
            "tags": []
          },
          "execution_count": 89
        }
      ]
    },
    {
      "cell_type": "code",
      "metadata": {
        "colab": {
          "base_uri": "https://localhost:8080/"
        },
        "id": "Sas2GQxqH_N1",
        "outputId": "44e6ae5d-6c7a-4fbb-a839-248e6beae89b"
      },
      "source": [
        "grid_search.best_estimator_"
      ],
      "execution_count": null,
      "outputs": [
        {
          "output_type": "execute_result",
          "data": {
            "text/plain": [
              "RandomForestRegressor(bootstrap=True, ccp_alpha=0.0, criterion='mse',\n",
              "                      max_depth=None, max_features=16, max_leaf_nodes=None,\n",
              "                      max_samples=None, min_impurity_decrease=0.0,\n",
              "                      min_impurity_split=None, min_samples_leaf=1,\n",
              "                      min_samples_split=2, min_weight_fraction_leaf=0.0,\n",
              "                      n_estimators=300, n_jobs=None, oob_score=False,\n",
              "                      random_state=None, verbose=0, warm_start=False)"
            ]
          },
          "metadata": {
            "tags": []
          },
          "execution_count": 72
        }
      ]
    },
    {
      "cell_type": "code",
      "metadata": {
        "colab": {
          "base_uri": "https://localhost:8080/"
        },
        "id": "59eL7SJR7nBL",
        "outputId": "373205e2-055b-4e6a-d411-30e145db6eae"
      },
      "source": [
        "res = grid_search.cv_results_\n",
        "\n",
        "for mean_score, params in zip(res['mean_test_score'], res[\"params\"]):\n",
        "    print(mean_score.mean(), params)"
      ],
      "execution_count": null,
      "outputs": [
        {
          "output_type": "stream",
          "text": [
            "0.3587143561144842 {'max_features': 8, 'n_estimators': 50}\n",
            "0.36068465322499277 {'max_features': 8, 'n_estimators': 100}\n",
            "0.3650104154874632 {'max_features': 8, 'n_estimators': 200}\n",
            "0.36332179500068545 {'max_features': 8, 'n_estimators': 300}\n",
            "0.36377453529033826 {'max_features': 10, 'n_estimators': 50}\n",
            "0.3654010005011631 {'max_features': 10, 'n_estimators': 100}\n",
            "0.36395413325793646 {'max_features': 10, 'n_estimators': 200}\n",
            "0.37284033336494726 {'max_features': 10, 'n_estimators': 300}\n",
            "0.3679929041888281 {'max_features': 16, 'n_estimators': 50}\n",
            "0.3697425579961721 {'max_features': 16, 'n_estimators': 100}\n",
            "0.37480178839042644 {'max_features': 16, 'n_estimators': 200}\n",
            "0.36948517226412936 {'max_features': 16, 'n_estimators': 300}\n",
            "0.26542894950216367 {'bootstrap': False, 'max_features': 10, 'n_estimators': 100}\n",
            "0.26882299935315057 {'bootstrap': False, 'max_features': 10, 'n_estimators': 150}\n",
            "0.2448320200273577 {'bootstrap': False, 'max_features': 16, 'n_estimators': 100}\n",
            "0.24370696656040533 {'bootstrap': False, 'max_features': 16, 'n_estimators': 150}\n"
          ],
          "name": "stdout"
        }
      ]
    },
    {
      "cell_type": "markdown",
      "metadata": {
        "id": "EZ8TbSZch-mC"
      },
      "source": [
        "## 3.랜덤포레스트로 확률보기"
      ]
    },
    {
      "cell_type": "code",
      "metadata": {
        "colab": {
          "base_uri": "https://localhost:8080/"
        },
        "id": "rqknAKZrJ5Uc",
        "outputId": "cbad052a-06b4-44db-8343-5d8942092b9f"
      },
      "source": [
        "from sklearn.ensemble import RandomForestClassifier\n",
        "\n",
        "forest = RandomForestClassifier(n_estimators=200, random_state=42)\n",
        "forest.fit(X_train, y_train)\n",
        "\n",
        "\n",
        "print(\"Training score : {:.3f}\".format(forest.score(X_train, y_train)))\n",
        "print(\"Test score : {:.3f}\".format(forest.score(X_test, y_test)))"
      ],
      "execution_count": null,
      "outputs": [
        {
          "output_type": "stream",
          "text": [
            "Training score : 0.925\n",
            "Test score : 0.857\n"
          ],
          "name": "stdout"
        }
      ]
    },
    {
      "cell_type": "code",
      "metadata": {
        "id": "38TLaDbPNvV0"
      },
      "source": [
        ""
      ],
      "execution_count": null,
      "outputs": []
    }
  ]
}